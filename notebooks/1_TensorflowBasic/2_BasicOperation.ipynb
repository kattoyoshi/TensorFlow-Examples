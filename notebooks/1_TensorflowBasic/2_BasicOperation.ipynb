{
 "cells": [
  {
   "cell_type": "markdown",
   "metadata": {},
   "source": [
    "# Basic Operations (Low Level API)\n",
    "---\n",
    "In thie notebook, I'll describe basic Tensor operations.\n",
    "- Vector / Matrix\n",
    "- Matrix Operation\n",
    "\n",
    "__packages:__"
   ]
  },
  {
   "cell_type": "code",
   "execution_count": 1,
   "metadata": {},
   "outputs": [
    {
     "name": "stdout",
     "output_type": "stream",
     "text": [
      "tensorflow version:  1.12.0\n",
      "numpy version:  1.15.2\n",
      "matplotlib version:  3.0.0\n"
     ]
    }
   ],
   "source": [
    "import tensorflow as tf\n",
    "import numpy as np\n",
    "import matplotlib\n",
    "import matplotlib.pyplot as plt\n",
    "%matplotlib inline\n",
    "\n",
    "print(\"tensorflow version: \", tf.__version__)\n",
    "print(\"numpy version: \", np.__version__)\n",
    "print(\"matplotlib version: \", matplotlib.__version__)"
   ]
  },
  {
   "cell_type": "markdown",
   "metadata": {},
   "source": [
    "## Vector / Matrix\n",
    "We can use numpy like functions to create vectors or tensors.\n",
    "\n",
    "### Numpy like functions\n",
    "```python\n",
    "tf.zeros(shape, dtype=tf.float32, name=None)\n",
    "```\n",
    "```python\n",
    "tf.ones(shape, dtype=tf.float32, name=None)\n",
    "```\n",
    "```python\n",
    "tf.zeros_like(tensor, dtype=None, name=None, optimize=True)\n",
    "```\n",
    "```python\n",
    "tf.ones_like(tensor, dtype=None, name=None, optimize=True)\n",
    "```\n",
    "```python\n",
    "tf.linspace(start, stop, num, name=None)\n",
    "```\n",
    "```python\n",
    "tf.range(start, limit=None, delta=1, dtype=None, name='range')\n",
    "```"
   ]
  },
  {
   "cell_type": "code",
   "execution_count": 2,
   "metadata": {},
   "outputs": [
    {
     "name": "stdout",
     "output_type": "stream",
     "text": [
      "--- data1_sess ---\n",
      "[[0. 0. 0.]\n",
      " [0. 0. 0.]]\n",
      "--- data2_sess ---\n",
      "[[1. 1. 1.]\n",
      " [1. 1. 1.]]\n",
      "--- data3_sess ---\n",
      "[[0. 0. 0.]\n",
      " [0. 0. 0.]]\n",
      "--- data4_sess ---\n",
      "[[1. 1. 1.]\n",
      " [1. 1. 1.]]\n"
     ]
    }
   ],
   "source": [
    "data1 = tf.zeros([2,3])\n",
    "data2 = tf.ones([2,3])\n",
    "data3 = tf.zeros_like(data2)\n",
    "data4 = tf.ones_like(data1)\n",
    "\n",
    "with tf.Session() as sess:\n",
    "    data1_sess = sess.run(data1)\n",
    "    data2_sess = sess.run(data2)\n",
    "    data3_sess = sess.run(data3)\n",
    "    data4_sess = sess.run(data4)\n",
    "    print(\"--- data1_sess ---\")\n",
    "    print(data1_sess)\n",
    "    print(\"--- data2_sess ---\")\n",
    "    print(data2_sess)\n",
    "    print(\"--- data3_sess ---\")\n",
    "    print(data3_sess)\n",
    "    print(\"--- data4_sess ---\")\n",
    "    print(data4_sess)"
   ]
  },
  {
   "cell_type": "markdown",
   "metadata": {},
   "source": [
    "### [tf.random](https://www.tensorflow.org/api_docs/python/tf/random) examples \n",
    "```python\n",
    "tf.random.uniform(shape, minval=0, maxval=None, dtype=tf.float32, seed=None, name=None)\n",
    "tf.random_uniform(shape, minval=0, maxval=None, dtype=tf.float32, seed=None, name=None)\n",
    "```\n",
    "```python\n",
    "tf.random.normal(shape, mean=0.0, stddev=1.0, dtype=tf.float32, seed=None, name=None)\n",
    "tf.random_normal(shape, mean=0.0, stddev=1.0, dtype=tf.float32, seed=None, name=None)\n",
    "```\n",
    "```python\n",
    "tf.random.truncated_normal(shape, mean=0.0, stddev=1.0, dtype=tf.float32, seed=None, name=None)\n",
    "tf.truncated_normal(shape, mean=0.0, stddev=1.0, dtype=tf.float32, seed=None, name=None)\n",
    "```"
   ]
  },
  {
   "cell_type": "code",
   "execution_count": 3,
   "metadata": {},
   "outputs": [
    {
     "name": "stderr",
     "output_type": "stream",
     "text": [
      "C:\\Users\\yoshiyuki\\Anaconda3\\envs\\tensorflow-gpu\\lib\\site-packages\\ipykernel_launcher.py:15: DeprecationWarning: object of type <class 'float'> cannot be safely interpreted as an integer.\n",
      "  from ipykernel import kernelapp as app\n"
     ]
    },
    {
     "data": {
      "image/png": "[encoded data removed]",
      "text/plain": [
       "<Figure size 432x288 with 1 Axes>"
      ]
     },
     "metadata": {
      "needs_background": "light"
     },
     "output_type": "display_data"
    },
    {
     "data": {
      "image/png": "[encoded data removed]",
      "text/plain": [
       "<Figure size 432x288 with 1 Axes>"
      ]
     },
     "metadata": {
      "needs_background": "light"
     },
     "output_type": "display_data"
    },
    {
     "data": {
      "image/png": "[encoded data removed]",
      "text/plain": [
       "<Figure size 432x288 with 1 Axes>"
      ]
     },
     "metadata": {
      "needs_background": "light"
     },
     "output_type": "display_data"
    }
   ],
   "source": [
    "# clear graph\n",
    "tf.reset_default_graph()\n",
    "\n",
    "uniform = tf.random_uniform((1000, ), minval=-3, maxval=3)\n",
    "normal = tf.random_normal((1000, ))\n",
    "turncated_normal = tf.truncated_normal((1000, ))\n",
    "\n",
    "with tf.Session() as sess:\n",
    "    uniform_values = sess.run(uniform)\n",
    "    normal_values = sess.run(normal)\n",
    "    turncated_normal_values = sess.run(turncated_normal)\n",
    "\n",
    "def plot(title, values, hist_range=(-4, 4)):\n",
    "    plt.title(title)\n",
    "    plt.hist(values, np.linspace(*hist_range, num=len(values)/2))\n",
    "    plt.show()\n",
    "\n",
    "plot(\"random_uniform\", uniform_values)\n",
    "plot(\"random_normal\", normal_values)\n",
    "plot(\"turncated_normal\", turncated_normal_values)"
   ]
  },
  {
   "cell_type": "markdown",
   "metadata": {},
   "source": [
    "```python\n",
    "tf.random.shuffle(value, seed=None, name=None)\n",
    "tf.random_shuffle(value, seed=None, name=None)\n",
    "```\n",
    "```python\n",
    "tf.random.crop(value, size, seed=None, name=None)\n",
    "tf.random_crop(value, size, seed=None, name=None)\n",
    "```"
   ]
  },
  {
   "cell_type": "code",
   "execution_count": 4,
   "metadata": {},
   "outputs": [
    {
     "name": "stdout",
     "output_type": "stream",
     "text": [
      "original:  [1 2 3 4 5]\n",
      "shuffle:  [2 3 1 5 4]\n",
      "crop:  [1 2 3]\n"
     ]
    }
   ],
   "source": [
    "# clear graph\n",
    "tf.reset_default_graph()\n",
    "\n",
    "val = tf.constant([1,2,3,4,5], dtype=tf.int32)\n",
    "shuffle = tf.random_shuffle(val)\n",
    "crop = tf.random_crop(val, (3,))\n",
    "\n",
    "with tf.Session() as sess:\n",
    "    print(\"original: \", sess.run(val))\n",
    "    print(\"shuffle: \", sess.run(shuffle))\n",
    "    print(\"crop: \", sess.run(crop))"
   ]
  },
  {
   "cell_type": "markdown",
   "metadata": {},
   "source": [
    "### Numpy to tensor\n",
    "```python\n",
    "tf.convert_to_tensor(value, dtype=None, name=None, preferred_dtype=None)\n",
    "```\n",
    "### Dimension operations\n",
    "```python\n",
    "# Removes dimensions of size 1 from the shape of a tensor. \n",
    "tf.squeeze(input, axis=None, name=None, squeeze_dims=None)\n",
    "```\n",
    "```python\n",
    "# Inserts a dimension of 1 into a tensor's shape. (deprecated arguments)\n",
    "tf.expand_dims(input, axis=None, name=None, dim=None)\n",
    "```"
   ]
  },
  {
   "cell_type": "code",
   "execution_count": 5,
   "metadata": {},
   "outputs": [
    {
     "name": "stdout",
     "output_type": "stream",
     "text": [
      "val1 shape:  (2, 4)\n",
      "val2 shape:  (1, 2, 4)\n",
      "val1:\n",
      " [[1 2 3 4]\n",
      " [5 6 7 8]]\n",
      "val2:\n",
      " [[[1 2 3 4]\n",
      "  [5 6 7 8]]]\n",
      "squeeze(val2)\n",
      " [[1 2 3 4]\n",
      " [5 6 7 8]]\n",
      "expand_dims(val1)\n",
      " [[[1 2 3 4]\n",
      "  [5 6 7 8]]]\n"
     ]
    }
   ],
   "source": [
    "# clear graph\n",
    "tf.reset_default_graph()\n",
    "\n",
    "np_array1 = np.array([[1,2,3,4],[5,6,7,8]])\n",
    "np_array2 = np.array([[[1,2,3,4],[5,6,7,8]]])\n",
    "\n",
    "val1 = tf.convert_to_tensor(np_array1)\n",
    "val2 = tf.convert_to_tensor(np_array2)\n",
    "print(\"val1 shape: \", np_array1.shape)\n",
    "print(\"val2 shape: \", np_array2.shape)\n",
    "\n",
    "squeeze = tf.squeeze(val2)\n",
    "expand = tf.expand_dims(val1, axis=0)\n",
    "\n",
    "with tf.Session() as sess:\n",
    "    print(\"val1:\\n\", sess.run(val1))\n",
    "    print(\"val2:\\n\", sess.run(val2))\n",
    "    print(\"squeeze(val2)\\n\", sess.run(squeeze))\n",
    "    print(\"expand_dims(val1)\\n\", sess.run(expand))"
   ]
  },
  {
   "cell_type": "markdown",
   "metadata": {},
   "source": [
    "## Matrix Operation"
   ]
  },
  {
   "cell_type": "code",
   "execution_count": 6,
   "metadata": {},
   "outputs": [],
   "source": [
    "A_mat_tsr = tf.constant([[1,2,3],[4,5,6]])\n",
    "B_mat_tsr = tf.constant([[7,8,9],[10,11,12]])\n",
    "C_mat_tsr = tf.constant([[1,2],[3,4],[5,6]])"
   ]
  },
  {
   "cell_type": "markdown",
   "metadata": {},
   "source": [
    "### Add -- element wise operation"
   ]
  },
  {
   "cell_type": "code",
   "execution_count": 7,
   "metadata": {},
   "outputs": [
    {
     "name": "stdout",
     "output_type": "stream",
     "text": [
      "[[ 8 10 12]\n",
      " [14 16 18]]\n"
     ]
    }
   ],
   "source": [
    "with tf.Session() as sess:\n",
    "    output = sess.run(A_mat_tsr + B_mat_tsr)\n",
    "    print(output)"
   ]
  },
  {
   "cell_type": "markdown",
   "metadata": {},
   "source": [
    "### Subtract -- element wise operation"
   ]
  },
  {
   "cell_type": "code",
   "execution_count": 8,
   "metadata": {},
   "outputs": [
    {
     "name": "stdout",
     "output_type": "stream",
     "text": [
      "[[ 8 10 12]\n",
      " [14 16 18]]\n"
     ]
    }
   ],
   "source": [
    "add_matrix = tf.add(A_mat_tsr, B_mat_tsr)\n",
    "with tf.Session() as sess:\n",
    "    output = sess.run(add_matrix)\n",
    "    print(output)"
   ]
  },
  {
   "cell_type": "markdown",
   "metadata": {},
   "source": [
    "### Multiply -- element wise operation"
   ]
  },
  {
   "cell_type": "code",
   "execution_count": 9,
   "metadata": {},
   "outputs": [
    {
     "name": "stdout",
     "output_type": "stream",
     "text": [
      "[[0.14285714 0.25       0.33333333]\n",
      " [0.4        0.45454545 0.5       ]]\n"
     ]
    }
   ],
   "source": [
    "div_matrix = tf.divide(A_mat_tsr, B_mat_tsr)\n",
    "with tf.Session() as sess:\n",
    "    output = sess.run(div_matrix)\n",
    "    print(output)"
   ]
  },
  {
   "cell_type": "markdown",
   "metadata": {},
   "source": [
    "### Divide -- element wise operation"
   ]
  },
  {
   "cell_type": "code",
   "execution_count": 10,
   "metadata": {},
   "outputs": [
    {
     "name": "stdout",
     "output_type": "stream",
     "text": [
      "[[0.14285714 0.25       0.33333333]\n",
      " [0.4        0.45454545 0.5       ]]\n"
     ]
    }
   ],
   "source": [
    "div_matrix = tf.divide(A_mat_tsr, B_mat_tsr)\n",
    "with tf.Session() as sess:\n",
    "    output = sess.run(div_matrix)\n",
    "    print(output)"
   ]
  },
  {
   "cell_type": "markdown",
   "metadata": {},
   "source": [
    "### Matrix multiplication"
   ]
  },
  {
   "cell_type": "code",
   "execution_count": 11,
   "metadata": {},
   "outputs": [
    {
     "name": "stdout",
     "output_type": "stream",
     "text": [
      "[[22 28]\n",
      " [49 64]]\n"
     ]
    }
   ],
   "source": [
    "matrix_dot = tf.matmul(A_mat_tsr,C_mat_tsr)\n",
    "with tf.Session() as sess:\n",
    "    output = sess.run(matrix_dot)\n",
    "    print(output)"
   ]
  }
 ],
 "metadata": {
  "kernelspec": {
   "display_name": "env.tensorflow-gpu",
   "language": "python",
   "name": "tensorflow-gpu"
  },
  "language_info": {
   "codemirror_mode": {
    "name": "ipython",
    "version": 3
   },
   "file_extension": ".py",
   "mimetype": "text/x-python",
   "name": "python",
   "nbconvert_exporter": "python",
   "pygments_lexer": "ipython3",
   "version": "3.6.6"
  }
 },
 "nbformat": 4,
 "nbformat_minor": 2
}
