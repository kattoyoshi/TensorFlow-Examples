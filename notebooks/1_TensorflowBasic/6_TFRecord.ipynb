{
 "cells": [
  {
   "cell_type": "markdown",
   "metadata": {},
   "source": [
    "# TFRecord\n",
    "---\n",
    "In this notebook, I'll describe how to use the TFRecord API in your training.  \n",
    "\n",
    "## Table of contents\n",
    "---\n",
    "- Overview and utility functions  \n",
    "- tf.python_io API (Recommended)         \n",
    "- tf.data.Dataset API\n",
    "\n",
    "Packages:"
   ]
  },
  {
   "cell_type": "code",
   "execution_count": 1,
   "metadata": {},
   "outputs": [
    {
     "name": "stdout",
     "output_type": "stream",
     "text": [
      "tensorflow version:  1.15.2\n",
      "numpy version:  1.18.2\n"
     ]
    }
   ],
   "source": [
    "import tensorflow as tf\n",
    "import numpy as np\n",
    "import gzip\n",
    "import os\n",
    "import matplotlib.pyplot as plt\n",
    "%matplotlib inline\n",
    "\n",
    "print(\"tensorflow version: \", tf.__version__)\n",
    "print(\"numpy version: \", np.__version__)"
   ]
  },
  {
   "cell_type": "markdown",
   "metadata": {},
   "source": [
    "Define functions to load mnist dataset:"
   ]
  },
  {
   "cell_type": "code",
   "execution_count": 2,
   "metadata": {},
   "outputs": [],
   "source": [
    "def load_mnist_images(file_path):\n",
    "    with gzip.open(file_path, 'rb') as f:\n",
    "        data = np.frombuffer(f.read(), np.uint8, offset=16)\n",
    "        data = data.reshape(-1,784)\n",
    "        return data.reshape(-1, 28, 28, 1)\n",
    "    \n",
    "def load_mnist_labels(file_path):\n",
    "    with gzip.open(file_path, 'rb') as f:\n",
    "        data = np.frombuffer(f.read(), np.uint8, offset=8)\n",
    "    return data"
   ]
  },
  {
   "cell_type": "code",
   "execution_count": 3,
   "metadata": {},
   "outputs": [],
   "source": [
    "url_base = 'http://yann.lecun.com/exdb/mnist/'\n",
    "\n",
    "dataset_dir = './../../data/mnist/'\n",
    "\n",
    "filenames = {\n",
    "    'test_images':'t10k-images-idx3-ubyte.gz',\n",
    "    'test_labels':'t10k-labels-idx1-ubyte.gz',\n",
    "    'train_images':'train-images-idx3-ubyte.gz',\n",
    "    'train_labels':'train-labels-idx1-ubyte.gz'\n",
    "}\n",
    "\n",
    "os.makedirs(dataset_dir, exist_ok=True)\n",
    "\n",
    "for filename in filenames.values():\n",
    "    if not os.path.exists(dataset_dir + filename):\n",
    "        urllib.request.urlretrieve(url_base + filename, dataset_dir + filename)"
   ]
  },
  {
   "cell_type": "markdown",
   "metadata": {},
   "source": [
    "## Overview and utility functions\n",
    "---\n",
    "### Overview\n",
    "- We should convert data into `tf.Example`.\n",
    "    - The `tf.Example` is a class for saving data as a serialized binary-string format.\n",
    "    - The `tf.Example` is made from `tf.train.Features`.\n",
    "    - The `tf.train.Features` is made from dictionaies of `tf.train.Feature` like `{\"string\": tf.train.Feature}`.\n",
    "        - The `tf.train.Feature` can take following fixed length list data types.\n",
    "            - tf.train.BytesList (the following types can be coerced)\n",
    "                - string\n",
    "                - byte\n",
    "            - tf.train.FloatList (the following types can be coerced)\n",
    "                - float (float32)\n",
    "                - double (float64)\n",
    "            - tf.train.Int64List (the following types can be coerced)\n",
    "                - bool\n",
    "                - enum\n",
    "                - int32\n",
    "                - uint32\n",
    "                - int64\n",
    "                - uint64"
   ]
  },
  {
   "cell_type": "markdown",
   "metadata": {},
   "source": [
    "#### Define functions for data type convertion for the TFRecord format\n",
    "Note that we should put data as an 1-D List."
   ]
  },
  {
   "cell_type": "code",
   "execution_count": 4,
   "metadata": {},
   "outputs": [],
   "source": [
    "# The following functions can be used to convert a value to a type compatible with tf.Example.\n",
    "## Reference: https://www.tensorflow.org/tutorials/load_data/tf_records#writing_a_tfrecord_file\n",
    "\n",
    "# We have to wrap as 1D list in case the value is scalar\n",
    "\n",
    "def _bytes_feature(value):\n",
    "    \"\"\"Returns a bytes_list from a string / byte.\"\"\"\n",
    "    return tf.train.Feature(bytes_list=tf.train.BytesList(value=[value])) \n",
    "\n",
    "def _float_feature(value):\n",
    "    \"\"\"Returns a float_list from a float / double.\"\"\"\n",
    "    return tf.train.Feature(float_list=tf.train.FloatList(value=[value]))\n",
    "\n",
    "def _int64_feature(value):\n",
    "    \"\"\"Returns an int64_list from a bool / enum / int / uint.\"\"\"\n",
    "    return tf.train.Feature(int64_list=tf.train.Int64List(value=[value]))"
   ]
  },
  {
   "cell_type": "markdown",
   "metadata": {},
   "source": [
    "## tf.python_io API (Recommended)\n",
    "---\n",
    "Reference:  \n",
    "- https://github.com/tensorflow/tensorflow/blob/master/tensorflow/examples/how_tos/reading_data/convert_to_records.py\n",
    "    \n",
    "### Writing a TFRecord file\n",
    "---\n",
    "- Writing a TFRecord file \n",
    "    -  Making a TFRecord format\n",
    "        - Serialize data using `tf.train.Example` function\n",
    "    - Writing a TFRecord file\n",
    "        - `tf.python_io.TFRecordWriter`\n",
    "\n",
    "#### Define functions"
   ]
  },
  {
   "cell_type": "code",
   "execution_count": 5,
   "metadata": {},
   "outputs": [],
   "source": [
    "def make_example(label, image):\n",
    "    '''\n",
    "    Convert numpy data into tf.train.Example format\n",
    "    # Arguments\n",
    "        label: Categolical label data\n",
    "        image: 4-D tensor image data of shape [height, width, channels]\n",
    "    # Returns\n",
    "        Single (label, image) pair packed as tf.train.example\n",
    "    '''\n",
    "    image_raw = image.tostring()\n",
    "    height = image.shape[0]\n",
    "    width = image.shape[1]\n",
    "    channels = image.shape[2]\n",
    "    example = tf.train.Example(\n",
    "        features=tf.train.Features(\n",
    "            feature={\n",
    "                'height': _int64_feature(height),\n",
    "                'width': _int64_feature(width),\n",
    "                'depth': _int64_feature(channels),\n",
    "                'label': _int64_feature(int(label)),\n",
    "                'image_raw': _bytes_feature(image_raw)\n",
    "            }\n",
    "        )\n",
    "    )\n",
    "    return example"
   ]
  },
  {
   "cell_type": "code",
   "execution_count": 6,
   "metadata": {},
   "outputs": [],
   "source": [
    "def convert_to_tfrecord(images, labels, path):\n",
    "    \"\"\"Converts a numpy format dataset to tfrecords.\"\"\"\n",
    "    num_examples = len(labels)\n",
    "    if images.shape[0] != num_examples:\n",
    "        raise ValueError('Images size %d does not match label size %d.' % (images.shape[0], num_examples))\n",
    "    \n",
    "    print('Writing', path)\n",
    "    with tf.python_io.TFRecordWriter(path) as writer:\n",
    "        for idx in range(num_examples):\n",
    "            example = make_example(labels[idx], images[idx])\n",
    "            writer.write(example.SerializeToString())"
   ]
  },
  {
   "cell_type": "markdown",
   "metadata": {},
   "source": [
    "#### Load MNIST dataset"
   ]
  },
  {
   "cell_type": "code",
   "execution_count": 7,
   "metadata": {},
   "outputs": [],
   "source": [
    "X_train = load_mnist_images(dataset_dir + filenames['train_images'])\n",
    "y_train = load_mnist_labels(dataset_dir + filenames['train_labels'])\n",
    "X_test = load_mnist_images(dataset_dir + filenames['test_images'])\n",
    "y_test = load_mnist_labels(dataset_dir + filenames['test_labels'])"
   ]
  },
  {
   "cell_type": "markdown",
   "metadata": {},
   "source": [
    "#### Write TFRecords"
   ]
  },
  {
   "cell_type": "code",
   "execution_count": 8,
   "metadata": {},
   "outputs": [
    {
     "name": "stdout",
     "output_type": "stream",
     "text": [
      "Writing ./../../data/mnist/train_mnist_python_io.tfrecord\n",
      "Writing ./../../data/mnist/test_mnist_python_io.tfrecord\n"
     ]
    }
   ],
   "source": [
    "convert_to_tfrecord(X_train, y_train, dataset_dir + \"train_mnist_python_io.tfrecord\")\n",
    "convert_to_tfrecord(X_test, y_test, dataset_dir + \"test_mnist_python_io.tfrecord\")"
   ]
  },
  {
   "cell_type": "markdown",
   "metadata": {},
   "source": [
    "### Reading a TFRecord file\n",
    "---\n",
    "- Reading a TFRecord file\n",
    "    - `tf.TFRecordReader`\n",
    "    - `tf.python_io.tf_record_iterator`"
   ]
  },
  {
   "cell_type": "code",
   "execution_count": 9,
   "metadata": {},
   "outputs": [
    {
     "name": "stdout",
     "output_type": "stream",
     "text": [
      "WARNING:tensorflow:From /usr/local/lib/python3.6/dist-packages/tensorflow_core/python/autograph/converters/directives.py:119: The name tf.parse_single_example is deprecated. Please use tf.io.parse_single_example instead.\n",
      "\n"
     ]
    }
   ],
   "source": [
    "raw_image_dataset = tf.data.TFRecordDataset(dataset_dir + \"train_mnist_python_io.tfrecord\")\n",
    "\n",
    "# Create a dictionary describing the features.\n",
    "image_feature_description = {\n",
    "    'height': tf.FixedLenFeature([], tf.int64),\n",
    "    'width': tf.FixedLenFeature([], tf.int64),\n",
    "    'depth': tf.FixedLenFeature([], tf.int64),\n",
    "    'label': tf.FixedLenFeature([], tf.int64),\n",
    "    'image_raw': tf.FixedLenFeature([], tf.string), # Byte feature should be load as type of tf.string\n",
    "}\n",
    "\n",
    "def _process_image(raw_image):\n",
    "    '''Convert byte image into image tensor'''\n",
    "    image = tf.decode_raw(raw_image, tf.uint8)\n",
    "    image = tf.cast(image, dtype=tf.float32) / 255\n",
    "    return tf.reshape(image, (28, 28, 1))\n",
    "\n",
    "def _parse_function(example_proto):\n",
    "    # Parse a single tf.Example using the dictionary above.\n",
    "    feature = tf.parse_single_example(example_proto, image_feature_description)\n",
    "    raw_image = feature['image_raw']\n",
    "    image = _process_image(raw_image)\n",
    "    label = tf.one_hot(feature['label'], depth=10)\n",
    "    return image, label\n",
    "\n",
    "# decode dataset\n",
    "parsed_image_dataset = raw_image_dataset.map(_parse_function)"
   ]
  },
  {
   "cell_type": "code",
   "execution_count": 10,
   "metadata": {},
   "outputs": [
    {
     "name": "stdout",
     "output_type": "stream",
     "text": [
      "WARNING:tensorflow:From <ipython-input-10-1794f36e2db1>:2: DatasetV1.make_one_shot_iterator (from tensorflow.python.data.ops.dataset_ops) is deprecated and will be removed in a future version.\n",
      "Instructions for updating:\n",
      "Use `for ... in dataset:` to iterate over a dataset. If using `tf.estimator`, return the `Dataset` object directly from your input function. As a last resort, you can use `tf.compat.v1.data.make_one_shot_iterator(dataset)`.\n"
     ]
    }
   ],
   "source": [
    "dataset = parsed_image_dataset.repeat(-1).batch(2) # Batch size is selected for debugging\n",
    "iterator = dataset.make_one_shot_iterator()\n",
    "\n",
    "# Ops for getting batch\n",
    "next_element = iterator.get_next()"
   ]
  },
  {
   "cell_type": "code",
   "execution_count": 11,
   "metadata": {},
   "outputs": [
    {
     "data": {
      "image/png": "[encoded data removed]",
      "text/plain": [
       "<Figure size 432x288 with 1 Axes>"
      ]
     },
     "metadata": {
      "needs_background": "light"
     },
     "output_type": "display_data"
    },
    {
     "name": "stdout",
     "output_type": "stream",
     "text": [
      "label [0. 0. 0. 0. 0. 1. 0. 0. 0. 0.]\n"
     ]
    },
    {
     "data": {
      "image/png": "[encoded data removed]",
      "text/plain": [
       "<Figure size 432x288 with 1 Axes>"
      ]
     },
     "metadata": {
      "needs_background": "light"
     },
     "output_type": "display_data"
    },
    {
     "name": "stdout",
     "output_type": "stream",
     "text": [
      "label [1. 0. 0. 0. 0. 0. 0. 0. 0. 0.]\n"
     ]
    }
   ],
   "source": [
    "with tf.Session() as sess:\n",
    "    batch_imgs,batch_labels = sess.run(next_element)\n",
    "    for batch_img, batch_label in zip(batch_imgs, batch_labels):\n",
    "        plt.imshow(batch_img[:,:,0])\n",
    "        plt.gray()\n",
    "        plt.show()\n",
    "        print('label', batch_label)"
   ]
  },
  {
   "cell_type": "markdown",
   "metadata": {},
   "source": [
    "## tf.data.Dataset API\n",
    "---\n",
    "In this section, I describe how to read/write a TFRecord file using tf.data.Dataset API. \n",
    "\n",
    "### Writing a TFRecord file\n",
    "---\n",
    "- Making a TFRecord format\n",
    "    - serialize dataset using `map` function\n",
    "- Writing a TFRecord file\n",
    "    - `tf.data.experimental.TFRecordWriter`\n",
    "\n",
    "#### Load mnist dataset"
   ]
  },
  {
   "cell_type": "code",
   "execution_count": 12,
   "metadata": {},
   "outputs": [],
   "source": [
    "X_train = load_mnist_images(dataset_dir + filenames['train_images'])\n",
    "y_train = load_mnist_labels(dataset_dir + filenames['train_labels'])\n",
    "X_test = load_mnist_images(dataset_dir + filenames['test_images'])\n",
    "y_test = load_mnist_labels(dataset_dir + filenames['test_labels'])\n",
    "\n",
    "# Parse images into 1D lists of raw data byte\n",
    "X_train = [_X.reshape(-1).tobytes() for _X in X_train]\n",
    "X_test =  [_X.reshape(-1).tobytes() for _X in X_test]\n",
    "\n",
    "# Parse categolical values into int32\n",
    "y_train = np.int32(y_train)\n",
    "y_test = np.int32(y_test)"
   ]
  },
  {
   "cell_type": "markdown",
   "metadata": {},
   "source": [
    "#### Define a map function to serialize the mnist dataset"
   ]
  },
  {
   "cell_type": "code",
   "execution_count": 13,
   "metadata": {},
   "outputs": [],
   "source": [
    "## Reference: https://www.tensorflow.org/tutorials/load_data/tf_records#writing_a_tfrecord_file\n",
    "\n",
    "def serialize_example_mnist(X, y):\n",
    "    \"\"\"\n",
    "    Creates a tf.Example message ready to be written to a file.\n",
    "    This function parse a single dataset input into a serialized data.\n",
    "    \"\"\"\n",
    "    \n",
    "    # Create a dictionary mapping the feature name to the tf.Example-compatible data type.\n",
    "    feature = {\n",
    "        'X': _bytes_feature(X),\n",
    "        'y': _int64_feature(y),\n",
    "    }\n",
    "  \n",
    "    # Create a message using tf.train.Example.\n",
    "    example_proto = tf.train.Example(features=tf.train.Features(feature=feature))\n",
    "    \n",
    "    # Serialize into binary-string format\n",
    "    return example_proto.SerializeToString()"
   ]
  },
  {
   "cell_type": "markdown",
   "metadata": {},
   "source": [
    ">The mapped function must operate in TensorFlow graph mode: It must operate on and return tf.Tensors. A non-tensor function, like serialize_example, can be wrapped with tf.py_function to make it compatible. We define a similar function serialize_example_pyfunction below with a minor change - converting eagerTensor objects returned by the tf.py_function to numpy arrays as required by our _bytes_feature, _float_feature and _int64_feature functions.\n",
    "\n",
    "More detailed information is avalable in the [official site](https://github.com/tensorflow/docs/blob/master/site/en/tutorials/load_data/tf_records.ipynb)."
   ]
  },
  {
   "cell_type": "code",
   "execution_count": 14,
   "metadata": {},
   "outputs": [],
   "source": [
    "## Reference: https://www.tensorflow.org/tutorials/load_data/tf_records#writing_a_tfrecord_file\n",
    "\n",
    "def serialize_example_mnist_pyfunc(X, y):\n",
    "    \"\"\"\n",
    "    Creates a tf.Example message ready to be written to a file.\n",
    "    This function parse a single dataset input into a serialized data.\n",
    "    \"\"\"\n",
    "    \n",
    "    # Create a dictionary mapping the feature name to the tf.Example-compatible data type.\n",
    "    feature = {\n",
    "        'X': _bytes_feature(X.numpy()),     # Here is a change!!\n",
    "        'y': _int64_feature(y.numpy()),     # Here is a change!!\n",
    "    }\n",
    "  \n",
    "    # Create a message using tf.train.Example.\n",
    "    example_proto = tf.train.Example(features=tf.train.Features(feature=feature))\n",
    "    \n",
    "    # Serialize into binary-string format\n",
    "    return example_proto.SerializeToString()"
   ]
  },
  {
   "cell_type": "markdown",
   "metadata": {},
   "source": [
    "#### Create dataset objects"
   ]
  },
  {
   "cell_type": "code",
   "execution_count": 15,
   "metadata": {},
   "outputs": [
    {
     "name": "stdout",
     "output_type": "stream",
     "text": [
      "<DatasetV1Adapter shapes: ((), ()), types: (tf.string, tf.int32)>\n",
      "<DatasetV1Adapter shapes: ((), ()), types: (tf.string, tf.int32)>\n"
     ]
    }
   ],
   "source": [
    "# Create source dataset for the training\n",
    "train_dataset = tf.data.Dataset.from_tensor_slices((X_train, y_train))\n",
    "print(train_dataset)\n",
    "\n",
    "# Create source dataset for the test\n",
    "test_dataset = tf.data.Dataset.from_tensor_slices((X_test, y_test))\n",
    "print(test_dataset)"
   ]
  },
  {
   "cell_type": "markdown",
   "metadata": {},
   "source": [
    "#### Define function to map the tf.data.Dataset objects."
   ]
  },
  {
   "cell_type": "code",
   "execution_count": 16,
   "metadata": {},
   "outputs": [],
   "source": [
    "# Function for serializing data\n",
    "def tf_serialize_example_mnist(X, y):\n",
    "    tf_string = tf.py_function(\n",
    "        serialize_example_mnist_pyfunc, \n",
    "        (X,y),          # pass these args to the above function.\n",
    "        tf.string)      # the return type is <a href=\"../../api_docs/python/tf#string\"><code>tf.string</code></a>.\n",
    "    return tf.reshape(tf_string, ()) # The result is a scalar"
   ]
  },
  {
   "cell_type": "code",
   "execution_count": 17,
   "metadata": {},
   "outputs": [
    {
     "name": "stdout",
     "output_type": "stream",
     "text": [
      "<DatasetV1Adapter shapes: (), types: tf.string>\n",
      "<DatasetV1Adapter shapes: (), types: tf.string>\n"
     ]
    }
   ],
   "source": [
    "# Serialize each data using map function\n",
    "serialized_mnist_train = train_dataset.map(tf_serialize_example_mnist)\n",
    "serialized_mnist_test = test_dataset.map(tf_serialize_example_mnist)\n",
    "print(serialized_mnist_train)\n",
    "print(serialized_mnist_test)"
   ]
  },
  {
   "cell_type": "markdown",
   "metadata": {},
   "source": [
    "#### Saving the serialized data as TFRecord file."
   ]
  },
  {
   "cell_type": "code",
   "execution_count": 18,
   "metadata": {},
   "outputs": [],
   "source": [
    "train_filename = 'train_mnist.tfrecord'\n",
    "test_filename = 'test_mnist.tfrecord'"
   ]
  },
  {
   "cell_type": "code",
   "execution_count": 19,
   "metadata": {},
   "outputs": [],
   "source": [
    "# Define ops to write TFRecord\n",
    "writer_train = tf.data.experimental.TFRecordWriter(dataset_dir + train_filename)\n",
    "write_ops_train = writer.write(serialized_mnist_train)\n",
    "\n",
    "writer_test = tf.data.experimental.TFRecordWriter(dataset_dir + test_filename)\n",
    "write_ops_test = writer1.write(serialized_mnist_test)\n",
    "\n",
    "with tf.Session() as sess:\n",
    "    sess.run(write_ops_train)\n",
    "    sess.run(write_ops_test)"
   ]
  },
  {
   "cell_type": "markdown",
   "metadata": {},
   "source": [
    "### Reading a TFRecord file\n",
    "---\n",
    "Reading process is the same as section above.\n",
    "\n",
    "#### Reading a TFRecord file"
   ]
  },
  {
   "cell_type": "code",
   "execution_count": 20,
   "metadata": {},
   "outputs": [],
   "source": [
    "# Put the filepath as list\n",
    "train_record = tf.data.TFRecordDataset([dataset_dir + train_filename])\n",
    "test_record = tf.data.TFRecordDataset([dataset_dir + test_filename])"
   ]
  },
  {
   "cell_type": "markdown",
   "metadata": {},
   "source": [
    "#### Create a description of the features"
   ]
  },
  {
   "cell_type": "code",
   "execution_count": 21,
   "metadata": {},
   "outputs": [],
   "source": [
    "feature_description = {\n",
    "    'X': tf.FixedLenFeature([], tf.string, default_value=''),\n",
    "    'y': tf.FixedLenFeature([], tf.int64, default_value=0),\n",
    "}"
   ]
  },
  {
   "cell_type": "markdown",
   "metadata": {},
   "source": [
    "#### Define function for mapping data"
   ]
  },
  {
   "cell_type": "code",
   "execution_count": 22,
   "metadata": {},
   "outputs": [],
   "source": [
    "def _process_image(raw_image):\n",
    "    '''Convert byte image into image tensor'''\n",
    "    image = tf.decode_raw(raw_image, tf.uint8)\n",
    "    image = tf.cast(image, dtype=tf.float32) / 255\n",
    "    return tf.reshape(image, (28, 28, 1))\n",
    "\n",
    "def _parse_function(example_proto):\n",
    "    # Parse a single tf.Example using the dictionary above.\n",
    "    feature = tf.parse_single_example(example_proto, feature_description)\n",
    "    raw_image = feature['X']\n",
    "    image = _process_image(raw_image)\n",
    "    label = tf.one_hot(feature['y'], depth=10)\n",
    "    return image, label"
   ]
  },
  {
   "cell_type": "markdown",
   "metadata": {},
   "source": [
    "#### Apply the function"
   ]
  },
  {
   "cell_type": "code",
   "execution_count": 23,
   "metadata": {},
   "outputs": [],
   "source": [
    "train_record_dataset = train_record.map(_parse_function)\n",
    "test_record_dataet = test_record.map(_parse_function)"
   ]
  },
  {
   "cell_type": "markdown",
   "metadata": {},
   "source": [
    "(Optional) Pre-processing"
   ]
  },
  {
   "cell_type": "code",
   "execution_count": 24,
   "metadata": {},
   "outputs": [],
   "source": [
    "train_record_dataset = train_record_dataset.repeat(-1).batch(8) # Batch size is selected for debugging.\n",
    "iterator = train_record_dataset.make_one_shot_iterator()\n",
    "next_data = iterator.get_next()"
   ]
  },
  {
   "cell_type": "code",
   "execution_count": 25,
   "metadata": {
    "scrolled": false
   },
   "outputs": [
    {
     "name": "stdout",
     "output_type": "stream",
     "text": [
      "(8, 28, 28, 1)\n"
     ]
    },
    {
     "data": {
      "image/png": "[encoded data removed]",
      "text/plain": [
       "<Figure size 432x288 with 1 Axes>"
      ]
     },
     "metadata": {
      "needs_background": "light"
     },
     "output_type": "display_data"
    },
    {
     "name": "stdout",
     "output_type": "stream",
     "text": [
      "label:  [0. 0. 0. 0. 0. 1. 0. 0. 0. 0.]\n"
     ]
    },
    {
     "data": {
      "image/png": "[encoded data removed]",
      "text/plain": [
       "<Figure size 432x288 with 1 Axes>"
      ]
     },
     "metadata": {
      "needs_background": "light"
     },
     "output_type": "display_data"
    },
    {
     "name": "stdout",
     "output_type": "stream",
     "text": [
      "label:  [1. 0. 0. 0. 0. 0. 0. 0. 0. 0.]\n"
     ]
    },
    {
     "data": {
      "image/png": "[encoded data removed]",
      "text/plain": [
       "<Figure size 432x288 with 1 Axes>"
      ]
     },
     "metadata": {
      "needs_background": "light"
     },
     "output_type": "display_data"
    },
    {
     "name": "stdout",
     "output_type": "stream",
     "text": [
      "label:  [0. 0. 0. 0. 1. 0. 0. 0. 0. 0.]\n"
     ]
    },
    {
     "data": {
      "image/png": "[encoded data removed]",
      "text/plain": [
       "<Figure size 432x288 with 1 Axes>"
      ]
     },
     "metadata": {
      "needs_background": "light"
     },
     "output_type": "display_data"
    },
    {
     "name": "stdout",
     "output_type": "stream",
     "text": [
      "label:  [0. 1. 0. 0. 0. 0. 0. 0. 0. 0.]\n"
     ]
    },
    {
     "data": {
      "image/png": "[encoded data removed]",
      "text/plain": [
       "<Figure size 432x288 with 1 Axes>"
      ]
     },
     "metadata": {
      "needs_background": "light"
     },
     "output_type": "display_data"
    },
    {
     "name": "stdout",
     "output_type": "stream",
     "text": [
      "label:  [0. 0. 0. 0. 0. 0. 0. 0. 0. 1.]\n"
     ]
    },
    {
     "data": {
      "image/png": "[encoded data removed]",
      "text/plain": [
       "<Figure size 432x288 with 1 Axes>"
      ]
     },
     "metadata": {
      "needs_background": "light"
     },
     "output_type": "display_data"
    },
    {
     "name": "stdout",
     "output_type": "stream",
     "text": [
      "label:  [0. 0. 1. 0. 0. 0. 0. 0. 0. 0.]\n"
     ]
    },
    {
     "data": {
      "image/png": "[encoded data removed]",
      "text/plain": [
       "<Figure size 432x288 with 1 Axes>"
      ]
     },
     "metadata": {
      "needs_background": "light"
     },
     "output_type": "display_data"
    },
    {
     "name": "stdout",
     "output_type": "stream",
     "text": [
      "label:  [0. 1. 0. 0. 0. 0. 0. 0. 0. 0.]\n"
     ]
    },
    {
     "data": {
      "image/png": "[encoded data removed]",
      "text/plain": [
       "<Figure size 432x288 with 1 Axes>"
      ]
     },
     "metadata": {
      "needs_background": "light"
     },
     "output_type": "display_data"
    },
    {
     "name": "stdout",
     "output_type": "stream",
     "text": [
      "label:  [0. 0. 0. 1. 0. 0. 0. 0. 0. 0.]\n"
     ]
    }
   ],
   "source": [
    "with tf.Session() as sess:\n",
    "    for ii in range(1):\n",
    "        imgs, labels = sess.run(next_data)\n",
    "        print(imgs.shape)\n",
    "        for img, label in zip(imgs, labels):\n",
    "            plt.imshow(img[:,:,0])\n",
    "            plt.show()\n",
    "            print('label: ', label)"
   ]
  },
  {
   "cell_type": "markdown",
   "metadata": {},
   "source": [
    "More informations:  \n",
    "https://www.tensorflow.org/guide/datasets#consuming_tfrecord_data"
   ]
  }
 ],
 "metadata": {
  "kernelspec": {
   "display_name": "Python 3",
   "language": "python",
   "name": "python3"
  },
  "language_info": {
   "codemirror_mode": {
    "name": "ipython",
    "version": 3
   },
   "file_extension": ".py",
   "mimetype": "text/x-python",
   "name": "python",
   "nbconvert_exporter": "python",
   "pygments_lexer": "ipython3",
   "version": "3.6.9"
  }
 },
 "nbformat": 4,
 "nbformat_minor": 2
}
