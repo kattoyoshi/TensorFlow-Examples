{
 "cells": [
  {
   "cell_type": "markdown",
   "metadata": {},
   "source": [
    "# MNIST Classification with CNN -- High Level API (tf.layers) --\n",
    "In this notebook, I describe how to implement CNN using tf.layers API."
   ]
  },
  {
   "cell_type": "code",
   "execution_count": 1,
   "metadata": {},
   "outputs": [
    {
     "name": "stdout",
     "output_type": "stream",
     "text": [
      "tensorflow version:  1.15.2\n",
      "numpy version:  1.18.2\n",
      "scikit learn version:  0.22.2.post1\n",
      "matplotlib version:  3.2.0\n"
     ]
    }
   ],
   "source": [
    "import tensorflow as tf\n",
    "import time\n",
    "import numpy as np\n",
    "import sklearn\n",
    "from sklearn.model_selection import train_test_split\n",
    "import matplotlib\n",
    "import matplotlib.pyplot as plt\n",
    "import os\n",
    "%matplotlib inline\n",
    "\n",
    "print(\"tensorflow version: \", tf.__version__)\n",
    "print(\"numpy version: \", np.__version__)\n",
    "print(\"scikit learn version: \", sklearn.__version__)\n",
    "print(\"matplotlib version: \", matplotlib.__version__)"
   ]
  },
  {
   "cell_type": "markdown",
   "metadata": {},
   "source": [
    "## 1. Load data & preprocessing\n",
    "In this notebook, I use pre-defined mnist dataset."
   ]
  },
  {
   "cell_type": "code",
   "execution_count": 2,
   "metadata": {},
   "outputs": [],
   "source": [
    "(X_train, y_train), (X_test, y_test) = tf.keras.datasets.mnist.load_data()"
   ]
  },
  {
   "cell_type": "code",
   "execution_count": 3,
   "metadata": {},
   "outputs": [],
   "source": [
    "# Split original training dataset into train/validation dataset\n",
    "X_train, X_val, y_train, y_val = train_test_split(X_train, y_train, test_size=0.2, shuffle=True)"
   ]
  },
  {
   "cell_type": "code",
   "execution_count": 4,
   "metadata": {},
   "outputs": [],
   "source": [
    "# Normalize Intensity\n",
    "X_train = X_train / 255.\n",
    "X_val = X_val / 255.\n",
    "X_test = X_test / 255."
   ]
  },
  {
   "cell_type": "code",
   "execution_count": 5,
   "metadata": {},
   "outputs": [],
   "source": [
    "# Convert into 4d tensor shape\n",
    "X_train = X_train.reshape((*X_train.shape, 1))\n",
    "X_val = X_val.reshape((*X_val.shape, 1))\n",
    "X_test = X_test.reshape((*X_test.shape, 1))"
   ]
  },
  {
   "cell_type": "code",
   "execution_count": 6,
   "metadata": {},
   "outputs": [],
   "source": [
    "# Convert labels into one-hot encoding (float)\n",
    "y_train = np.float32(tf.keras.utils.to_categorical(y_train))\n",
    "y_val = np.float32(tf.keras.utils.to_categorical(y_val))\n",
    "y_test = np.float32(tf.keras.utils.to_categorical(y_test))"
   ]
  },
  {
   "cell_type": "markdown",
   "metadata": {},
   "source": [
    "## 2. Create CNN model\n",
    "Network structure:\n",
    "[CONV(32) - BN - RELU] - MAXPOOL - [CONV(64) - BN - RELU] - MAXPOOL - [FC(1024) - BN - RELU] - DROPOUT - FC(10) - SOFTMAX\n",
    "\n",
    "The weight initialization rule are following:  \n",
    "- Layer with relu activation: He initialization  \n",
    "- Others: Xavier initialization  "
   ]
  },
  {
   "cell_type": "markdown",
   "metadata": {},
   "source": [
    "### Define network"
   ]
  },
  {
   "cell_type": "code",
   "execution_count": 7,
   "metadata": {},
   "outputs": [],
   "source": [
    "he_initializer = tf.initializers.he_normal()\n",
    "xavier_initializer = tf.initializers.glorot_normal()\n",
    "\n",
    "# Network\n",
    "class ConvNet():\n",
    "    def __init__(self, conv_filters=[32, 64], dense_node=1024, num_class=10):\n",
    "        self.conv_filters = conv_filters\n",
    "        self.dense_node = dense_node\n",
    "        self.num_class = num_class\n",
    "    \n",
    "    def conv_bn_relu(self, inputs, filters, is_training):\n",
    "        x = tf.layers.Conv2D(filters, 3, 1, 'same', kernel_initializer=tf.keras.initializers.he_initializerhe_initializer)(inputs)\n",
    "        x = tf.layers.BatchNormalization()(x, training = is_training)\n",
    "        x = tf.nn.relu(x)\n",
    "        return x\n",
    "    \n",
    "    def __call__(self, inputs, dropout_rate, is_training):\n",
    "        x = self.conv_bn_relu(inputs, self.conv_filters[0], is_training)\n",
    "        x = tf.layers.MaxPooling2D(2, 2, 'same')(x)\n",
    "        \n",
    "        x = self.conv_bn_relu(x, self.conv_filters[1], is_training)\n",
    "        x = tf.layers.MaxPooling2D(2, 2, 'same')(x)\n",
    "        \n",
    "        x = tf.layers.flatten(x)\n",
    "        \n",
    "        x = tf.layers.Dense(self.dense_node, kernel_initializer=he_initializer)(x)\n",
    "        x = tf.layers.BatchNormalization()(x, training = is_training)\n",
    "        x = tf.nn.relu(x)\n",
    "        \n",
    "        x = tf.layers.Dropout(rate=dropout_rate)(x)\n",
    "        \n",
    "        x = tf.layers.Dense(self.num_class, kernel_initializer=xavier_initializer)(x)\n",
    "        return x"
   ]
  },
  {
   "cell_type": "markdown",
   "metadata": {},
   "source": [
    "## Build graph\n",
    "Computation graph"
   ]
  },
  {
   "cell_type": "code",
   "execution_count": 8,
   "metadata": {},
   "outputs": [
    {
     "name": "stdout",
     "output_type": "stream",
     "text": [
      "WARNING:tensorflow:From <ipython-input-7-0c21dc848b18>:24: flatten (from tensorflow.python.layers.core) is deprecated and will be removed in a future version.\n",
      "Instructions for updating:\n",
      "Use keras.layers.flatten instead.\n",
      "WARNING:tensorflow:From /usr/local/lib/python3.6/dist-packages/tensorflow_core/python/layers/core.py:332: Layer.apply (from tensorflow.python.keras.engine.base_layer) is deprecated and will be removed in a future version.\n",
      "Instructions for updating:\n",
      "Please use `layer.__call__` method instead.\n",
      "WARNING:tensorflow:From <ipython-input-8-a4d8b3db4474>:20: softmax_cross_entropy_with_logits (from tensorflow.python.ops.nn_ops) is deprecated and will be removed in a future version.\n",
      "Instructions for updating:\n",
      "\n",
      "Future major versions of TensorFlow will allow gradients to flow\n",
      "into the labels input on backprop by default.\n",
      "\n",
      "See `tf.nn.softmax_cross_entropy_with_logits_v2`.\n",
      "\n"
     ]
    }
   ],
   "source": [
    "# Remove the privious graph\n",
    "tf.reset_default_graph()\n",
    "\n",
    "# parameter setting\n",
    "n_class = 10\n",
    "img_width = img_height = 28\n",
    "img_depth = 1\n",
    "\n",
    "# Add placeholder\n",
    "X = tf.placeholder(tf.float32, shape=[None, img_height, img_width, img_depth])\n",
    "y = tf.placeholder(tf.float32, shape=[None, n_class])\n",
    "lr = tf.placeholder(tf.float32)\n",
    "dropout_rate = tf.placeholder(tf.float32)\n",
    "is_training = tf.placeholder(tf.bool)\n",
    "\n",
    "# add logits ops\n",
    "logits = ConvNet()(X, dropout_rate, is_training)\n",
    "\n",
    "# add loss & optimizer ops\n",
    "cost = tf.reduce_mean(tf.nn.softmax_cross_entropy_with_logits(labels=y, logits=logits))\n",
    "optimizer = tf.train.AdamOptimizer(learning_rate=lr)\n",
    "\n",
    "update_ops = tf.get_collection(tf.GraphKeys.UPDATE_OPS)\n",
    "with tf.control_dependencies(update_ops):\n",
    "    train_op = optimizer.minimize(cost)\n",
    "\n",
    "# add accuracy ops\n",
    "correct_pred = tf.equal(tf.argmax(logits, axis=1), tf.argmax(y, axis=1))\n",
    "accuracy = tf.reduce_mean(tf.cast(correct_pred, tf.float32))\n",
    "\n",
    "# ops for debug\n",
    "predict_class = tf.argmax(logits, axis=1)"
   ]
  },
  {
   "cell_type": "markdown",
   "metadata": {},
   "source": [
    "## Debug"
   ]
  },
  {
   "cell_type": "code",
   "execution_count": 9,
   "metadata": {},
   "outputs": [],
   "source": [
    "def visualize_batch(X_batch, y_batch, y_pred=None):\n",
    "    assert len(X_batch) == len(y_batch)\n",
    "    \n",
    "    n_col = 10\n",
    "    if len(X_batch) % n_col ==0:\n",
    "        n_row=len(X_batch)//n_col\n",
    "    else:\n",
    "        n_row=len(X_batch)//n_col + 1\n",
    "    \n",
    "    fig = plt.figure(figsize=(20,15))\n",
    "    \n",
    "    for idx in range(len(y_batch)):\n",
    "        if y_pred is not None:\n",
    "            ax = fig.add_subplot(n_row, n_col, idx+1, title=\"gt={}, pred={}\".format(np.argmax(y_batch[idx]), y_pred[idx]))\n",
    "        else:\n",
    "            ax = fig.add_subplot(n_row, n_col, idx+1, title=\"gt={}\".format(np.argmax(y_batch[idx])))\n",
    "        ax.imshow(X_batch[idx].reshape(28,28), cmap='gray')\n",
    "        ax.axes.xaxis.set_visible(False)\n",
    "        ax.axes.yaxis.set_visible(False)\n",
    "    plt.show()"
   ]
  },
  {
   "cell_type": "code",
   "execution_count": 10,
   "metadata": {},
   "outputs": [
    {
     "name": "stdout",
     "output_type": "stream",
     "text": [
      "****** true label ******\n",
      "[[0. 0. 0. 1. 0. 0. 0. 0. 0. 0.]\n",
      " [0. 1. 0. 0. 0. 0. 0. 0. 0. 0.]\n",
      " [0. 1. 0. 0. 0. 0. 0. 0. 0. 0.]\n",
      " [0. 0. 0. 0. 1. 0. 0. 0. 0. 0.]\n",
      " [0. 0. 0. 0. 1. 0. 0. 0. 0. 0.]\n",
      " [0. 0. 0. 0. 0. 0. 0. 0. 1. 0.]\n",
      " [0. 0. 0. 0. 1. 0. 0. 0. 0. 0.]\n",
      " [0. 0. 0. 1. 0. 0. 0. 0. 0. 0.]]\n",
      "****** logits ******\n",
      "[[-2.9247028e-01 -1.8900368e+00  1.5524732e-01  1.0310997e+01\n",
      "  -6.0393014e+00 -5.5741125e-01 -3.9785522e-01 -3.9095876e-01\n",
      "  -2.5407472e+00 -1.9310484e+00]\n",
      " [ 1.1913273e+00  9.4581766e+00  1.3111134e-03 -4.4494162e+00\n",
      "  -3.4799223e+00 -1.9339591e+00 -1.5971577e+00  1.1781304e-01\n",
      "  -1.6842442e+00 -7.6532775e-01]\n",
      " [ 6.8061453e-01  9.2427874e+00 -8.8313036e-02 -1.6866546e+00\n",
      "  -3.8125784e+00 -3.9491001e-01 -7.3864996e-01 -1.0499040e+00\n",
      "  -3.9778727e-01 -4.3397757e-01]\n",
      " [ 8.4011704e-01 -2.5433483e+00  3.9703995e-01 -2.6994762e+00\n",
      "   8.5018902e+00 -7.5333345e-01 -7.5887436e-01 -2.1059783e+00\n",
      "  -1.4406008e+00  2.9450232e-01]\n",
      " [-3.3162576e-01 -3.7872362e-01  5.1143819e-01 -3.1276145e+00\n",
      "   8.9141531e+00 -1.5331455e+00 -8.5698020e-01 -1.6500812e+00\n",
      "  -3.9105885e-02 -2.3800671e-01]\n",
      " [-3.7794548e-01 -6.9338113e-01 -1.8224360e+00 -1.9207512e+00\n",
      "  -3.4970729e+00 -6.5179735e-01 -1.0631065e+00 -4.2696381e-01\n",
      "   9.3282175e+00 -1.7596263e+00]\n",
      " [ 1.1422907e+00 -3.6019626e+00  7.9553074e-01 -1.1692988e+00\n",
      "   7.4618292e+00 -1.5367573e+00 -4.4162117e-02 -7.7095836e-01\n",
      "  -3.8284817e-01 -4.2740601e-01]\n",
      " [ 9.2960399e-01 -9.1522622e-01 -2.0478590e+00  9.8768482e+00\n",
      "  -4.6943297e+00 -2.1833389e+00 -3.9104581e-01 -1.6324762e+00\n",
      "  -1.1474347e+00 -1.0803034e+00]]\n",
      "****** predict class ******\n",
      "[3 1 1 4 4 8 4 3]\n",
      "****** train_loss ******\n",
      "0.0011011288\n",
      "****** train_acc ******\n",
      "1.0\n"
     ]
    }
   ],
   "source": [
    "batch_size = 8\n",
    "\n",
    "# initialize parameters\n",
    "init = tf.global_variables_initializer()\n",
    "\n",
    "with tf.Session() as sess:\n",
    "    sess.run(init)\n",
    "    \n",
    "    rand_index = np.random.choice(X_train.shape[0], size=batch_size)\n",
    "    \n",
    "    X_batch = X_train[rand_index]\n",
    "    y_batch = y_train[rand_index]\n",
    "    \n",
    "    learning_rate = 0.001\n",
    "    \n",
    "    sess.run(train_op, feed_dict={\n",
    "        X : X_batch,\n",
    "        y : y_batch,\n",
    "        lr : learning_rate,\n",
    "        dropout_rate : 0.5,\n",
    "        is_training : True\n",
    "    })\n",
    "    \n",
    "    # this calc. is just a debug\n",
    "    logit, train_pradict_class = sess.run([logits, predict_class], feed_dict={\n",
    "        X : X_batch,\n",
    "        y : y_batch,\n",
    "        lr : learning_rate,\n",
    "        dropout_rate : 0.5,\n",
    "        is_training : True\n",
    "    })\n",
    "    \n",
    "    train_loss = sess.run(cost, feed_dict={\n",
    "        X : X_batch,\n",
    "        y : y_batch,\n",
    "        lr : learning_rate,\n",
    "        dropout_rate : 0.4,\n",
    "        is_training : True\n",
    "    })\n",
    "    train_acc = sess.run(accuracy, feed_dict={\n",
    "        X : X_batch,\n",
    "        y : y_batch,\n",
    "        lr : learning_rate,\n",
    "        dropout_rate : 0.,\n",
    "        is_training : True\n",
    "    })\n",
    "    \n",
    "    print('****** true label ******')\n",
    "    print(y_batch)\n",
    "    print('****** logits ******')\n",
    "    print(logit)\n",
    "    print('****** predict class ******')\n",
    "    print(train_pradict_class)\n",
    "    \n",
    "    print('****** train_loss ******')\n",
    "    print(train_loss)\n",
    "    print('****** train_acc ******')\n",
    "    print(train_acc)"
   ]
  },
  {
   "cell_type": "markdown",
   "metadata": {},
   "source": [
    "## 3. Training"
   ]
  },
  {
   "cell_type": "code",
   "execution_count": 11,
   "metadata": {},
   "outputs": [],
   "source": [
    "batch_size = 64"
   ]
  },
  {
   "cell_type": "markdown",
   "metadata": {},
   "source": [
    "### Dataset"
   ]
  },
  {
   "cell_type": "code",
   "execution_count": 12,
   "metadata": {},
   "outputs": [
    {
     "name": "stdout",
     "output_type": "stream",
     "text": [
      "WARNING:tensorflow:From <ipython-input-12-1d3efbcb78fc>:17: DatasetV1.output_types (from tensorflow.python.data.ops.dataset_ops) is deprecated and will be removed in a future version.\n",
      "Instructions for updating:\n",
      "Use `tf.compat.v1.data.get_output_types(dataset)`.\n",
      "WARNING:tensorflow:From <ipython-input-12-1d3efbcb78fc>:17: DatasetV1.output_shapes (from tensorflow.python.data.ops.dataset_ops) is deprecated and will be removed in a future version.\n",
      "Instructions for updating:\n",
      "Use `tf.compat.v1.data.get_output_shapes(dataset)`.\n",
      "WARNING:tensorflow:From /usr/local/lib/python3.6/dist-packages/tensorflow_core/python/data/ops/iterator_ops.py:347: Iterator.output_types (from tensorflow.python.data.ops.iterator_ops) is deprecated and will be removed in a future version.\n",
      "Instructions for updating:\n",
      "Use `tf.compat.v1.data.get_output_types(iterator)`.\n",
      "WARNING:tensorflow:From /usr/local/lib/python3.6/dist-packages/tensorflow_core/python/data/ops/iterator_ops.py:348: Iterator.output_shapes (from tensorflow.python.data.ops.iterator_ops) is deprecated and will be removed in a future version.\n",
      "Instructions for updating:\n",
      "Use `tf.compat.v1.data.get_output_shapes(iterator)`.\n",
      "WARNING:tensorflow:From /usr/local/lib/python3.6/dist-packages/tensorflow_core/python/data/ops/iterator_ops.py:350: Iterator.output_classes (from tensorflow.python.data.ops.iterator_ops) is deprecated and will be removed in a future version.\n",
      "Instructions for updating:\n",
      "Use `tf.compat.v1.data.get_output_classes(iterator)`.\n"
     ]
    }
   ],
   "source": [
    "# Build source dataset for training\n",
    "X_train_dataset = tf.data.Dataset.from_tensor_slices(X_train)\n",
    "y_train_dataset = tf.data.Dataset.from_tensor_slices(y_train)\n",
    "train_dataset = tf.data.Dataset.zip((X_train_dataset, y_train_dataset)).batch(batch_size)\n",
    "\n",
    "# Build source dataset for validation\n",
    "X_valid_dataset = tf.data.Dataset.from_tensor_slices(X_val)\n",
    "y_valid_dataset = tf.data.Dataset.from_tensor_slices(y_val)\n",
    "validation_dataset = tf.data.Dataset.zip((X_valid_dataset, y_valid_dataset)).batch(batch_size)\n",
    "\n",
    "# Build source dataset for test\n",
    "X_test_dataset = tf.data.Dataset.from_tensor_slices(X_test)\n",
    "y_test_dataset = tf.data.Dataset.from_tensor_slices(y_test)\n",
    "test_dataset = tf.data.Dataset.zip((X_test_dataset, y_test_dataset)).batch(batch_size)\n",
    "\n",
    "# Make iterator from dataset structure (re-use)\n",
    "iterator = tf.data.Iterator.from_structure(train_dataset.output_types, train_dataset.output_shapes)\n",
    "\n",
    "# Define ops for batch generation\n",
    "next_data = iterator.get_next()\n",
    "\n",
    "# Define initialize ops\n",
    "train_iter_init = iterator.make_initializer(train_dataset)\n",
    "validation_iter_init = iterator.make_initializer(validation_dataset)\n",
    "test_iter_init = iterator.make_initializer(test_dataset)"
   ]
  },
  {
   "cell_type": "markdown",
   "metadata": {},
   "source": [
    "### Training"
   ]
  },
  {
   "cell_type": "code",
   "execution_count": 13,
   "metadata": {},
   "outputs": [
    {
     "name": "stdout",
     "output_type": "stream",
     "text": [
      "epoch 0, time_per_epoch=35.2 s, loss=0.0567, acc=0.98, val_loss=0.0662, val_acc=0.98\n",
      "val_loss improved -- Trained Model Saved\n",
      "epoch 1, time_per_epoch=33.4 s, loss=0.0160, acc=1.00, val_loss=0.0598, val_acc=0.98\n",
      "val_loss improved -- Trained Model Saved\n",
      "epoch 2, time_per_epoch=33.3 s, loss=0.0064, acc=1.00, val_loss=0.0492, val_acc=0.98\n",
      "val_loss improved -- Trained Model Saved\n",
      "epoch 3, time_per_epoch=33.3 s, loss=0.0047, acc=1.00, val_loss=0.0518, val_acc=0.99\n",
      "val_loss not improved\n",
      "epoch 4, time_per_epoch=33.2 s, loss=0.0036, acc=1.00, val_loss=0.0447, val_acc=0.99\n",
      "val_loss improved -- Trained Model Saved\n",
      "epoch 5, time_per_epoch=33.3 s, loss=0.0023, acc=1.00, val_loss=0.0514, val_acc=0.99\n",
      "val_loss not improved\n",
      "epoch 6, time_per_epoch=33.2 s, loss=0.0018, acc=1.00, val_loss=0.0767, val_acc=0.98\n",
      "val_loss not improved\n",
      "epoch 7, time_per_epoch=33.2 s, loss=0.0016, acc=1.00, val_loss=0.0516, val_acc=0.99\n",
      "val_loss not improved\n",
      "val_loss not improved -- Stop training session\n"
     ]
    }
   ],
   "source": [
    "# Session\n",
    "epochs = 15\n",
    "drop_rate = 0.2\n",
    "learning_rate = 0.001\n",
    "\n",
    "# difine checkpoint file name\n",
    "checkpoint_path = './checkpoints_2'\n",
    "\n",
    "saver = tf.train.Saver()\n",
    "init = tf.global_variables_initializer()\n",
    "\n",
    "with tf.Session() as sess:\n",
    "    sess.run(init)\n",
    "    \n",
    "    not_improved_cnt = 0\n",
    "    val_loss_best = 99999999\n",
    "    \n",
    "    # Training cycle\n",
    "    for epoch in range(epochs):\n",
    "        \n",
    "        start = time.time()\n",
    "        train_loss_list = []\n",
    "        train_acc_list = []\n",
    "        validation_loss_list = []\n",
    "        validation_acc_list = []\n",
    "        \n",
    "        # train\n",
    "        sess.run(train_iter_init)\n",
    "        while True:\n",
    "            try:\n",
    "                X_batch, y_batch = sess.run(next_data)\n",
    "                \n",
    "                feed_dict={\n",
    "                    X : X_batch,\n",
    "                    y : y_batch,\n",
    "                    lr : learning_rate,\n",
    "                    dropout_rate : drop_rate,\n",
    "                    is_training : True\n",
    "                }\n",
    "                \n",
    "                # update trainable weights\n",
    "                sess.run(train_op, feed_dict=feed_dict)\n",
    "                \n",
    "                # calc. train loss & accuracy per batch\n",
    "                train_loss, train_acc = sess.run([cost, accuracy], feed_dict=feed_dict)\n",
    "                \n",
    "                train_loss_list.append(train_loss)\n",
    "                train_acc_list.append(train_acc)\n",
    "            except tf.errors.OutOfRangeError:\n",
    "                break\n",
    "        \n",
    "        # validation\n",
    "        sess.run(validation_iter_init)\n",
    "        while True:\n",
    "            try:\n",
    "                X_batch, y_batch = sess.run(next_data)\n",
    "                # calc. validation loss & acc \n",
    "                val_loss, val_acc = sess.run([cost, accuracy], feed_dict={\n",
    "                    X : X_batch,\n",
    "                    y : y_batch,\n",
    "                    lr : learning_rate,\n",
    "                    dropout_rate : 0.0,\n",
    "                    is_training : False\n",
    "                })\n",
    "                validation_loss_list.append(val_loss)\n",
    "                validation_acc_list.append(val_acc)\n",
    "            except tf.errors.OutOfRangeError:\n",
    "                break\n",
    "        elapsed_time = time.time() - start\n",
    "        \n",
    "        # Average over dataset\n",
    "        train_loss = np.average(train_loss_list)\n",
    "        train_acc = np.average(train_acc_list)\n",
    "        val_loss = np.average(validation_loss_list)\n",
    "        val_acc = np.average(validation_acc_list)\n",
    "        \n",
    "        print('epoch {0}, time_per_epoch={1:.1f} s, loss={2:.4f}, acc={3:.2f}, val_loss={4:.4f}, val_acc={5:.2f}'\n",
    "              .format(epoch, elapsed_time, train_loss, train_acc, val_loss, val_acc))\n",
    "        \n",
    "        if val_loss < val_loss_best:\n",
    "            val_loss_best = val_loss\n",
    "            \n",
    "            # reset count\n",
    "            not_improved_cnt = 0\n",
    "            \n",
    "            saver.save(sess, '{}/model_{}.ckpt'.format(checkpoint_path, epoch))\n",
    "            print('val_loss improved -- Trained Model Saved')\n",
    "        else:\n",
    "            not_improved_cnt += 1\n",
    "            print('val_loss not improved')\n",
    "            \n",
    "            if not_improved_cnt >= 3:\n",
    "                print('val_loss not improved -- Stop training session')\n",
    "                break"
   ]
  },
  {
   "cell_type": "markdown",
   "metadata": {},
   "source": [
    "## 4.Test"
   ]
  },
  {
   "cell_type": "code",
   "execution_count": 14,
   "metadata": {},
   "outputs": [
    {
     "name": "stdout",
     "output_type": "stream",
     "text": [
      "INFO:tensorflow:Restoring parameters from ./checkpoints_2/model_4.ckpt\n"
     ]
    },
    {
     "data": {
      "image/png": "[encoded data removed]",
      "text/plain": [
       "<Figure size 1440x1080 with 64 Axes>"
      ]
     },
     "metadata": {
      "needs_background": "light"
     },
     "output_type": "display_data"
    },
    {
     "name": "stdout",
     "output_type": "stream",
     "text": [
      "test_acc=1.000\n"
     ]
    }
   ],
   "source": [
    "with tf.Session() as sess:\n",
    "    saver.restore(sess, tf.train.latest_checkpoint(checkpoint_path))\n",
    "    \n",
    "    test_loss_list = []\n",
    "    test_acc_list = []\n",
    "    \n",
    "    sess.run(test_iter_init)\n",
    "\n",
    "    # evaluate\n",
    "    cnt = 0\n",
    "    while True:\n",
    "        try:\n",
    "            X_batch, y_batch = sess.run(next_data)\n",
    "            \n",
    "            # calc. test loss & acc \n",
    "            pred_labels, test_acc = sess.run([predict_class, accuracy], feed_dict={\n",
    "                X : X_batch,\n",
    "                y : y_batch,\n",
    "                lr : learning_rate,\n",
    "                dropout_rate : 0.0,\n",
    "                is_training : False\n",
    "            })\n",
    "            \n",
    "            if cnt % 500 == 0:\n",
    "                visualize_batch(X_batch, y_batch, pred_labels)\n",
    "            test_acc_list.append(test_acc)\n",
    "            \n",
    "            cnt += 1\n",
    "        except tf.errors.OutOfRangeError:\n",
    "            break\n",
    "            \n",
    "    test_acc = np.average(test_acc)\n",
    "\n",
    "    print('test_acc={0:.3f}'.format(test_acc))"
   ]
  }
 ],
 "metadata": {
  "kernelspec": {
   "display_name": "Python 3",
   "language": "python",
   "name": "python3"
  },
  "language_info": {
   "codemirror_mode": {
    "name": "ipython",
    "version": 3
   },
   "file_extension": ".py",
   "mimetype": "text/x-python",
   "name": "python",
   "nbconvert_exporter": "python",
   "pygments_lexer": "ipython3",
   "version": "3.6.9"
  }
 },
 "nbformat": 4,
 "nbformat_minor": 4
}
