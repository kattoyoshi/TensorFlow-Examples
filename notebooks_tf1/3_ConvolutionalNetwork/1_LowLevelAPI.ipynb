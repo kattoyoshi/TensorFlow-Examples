{
 "cells": [
  {
   "cell_type": "markdown",
   "metadata": {},
   "source": [
    "# MNIST Classification with CNN -- Low Level API (tf.nn) --\n",
    "In this notebook, I describe how to implement CNN using tf.nn API."
   ]
  },
  {
   "cell_type": "code",
   "execution_count": 1,
   "metadata": {},
   "outputs": [
    {
     "name": "stdout",
     "output_type": "stream",
     "text": [
      "tensorflow version:  1.15.2\n",
      "numpy version:  1.18.2\n",
      "scikit learn version:  0.22.2.post1\n",
      "matplotlib version:  3.2.0\n"
     ]
    }
   ],
   "source": [
    "import tensorflow as tf\n",
    "import numpy as np\n",
    "import sklearn\n",
    "from sklearn.model_selection import train_test_split\n",
    "import matplotlib\n",
    "import matplotlib.cm as cm\n",
    "import matplotlib.pyplot as plt\n",
    "import os\n",
    "import time\n",
    "%matplotlib inline\n",
    "\n",
    "print(\"tensorflow version: \", tf.__version__)\n",
    "print(\"numpy version: \", np.__version__)\n",
    "print(\"scikit learn version: \", sklearn.__version__)\n",
    "print(\"matplotlib version: \", matplotlib.__version__)"
   ]
  },
  {
   "cell_type": "markdown",
   "metadata": {},
   "source": [
    "## 1. Load data & preprocessing"
   ]
  },
  {
   "cell_type": "code",
   "execution_count": 2,
   "metadata": {},
   "outputs": [],
   "source": [
    "(X_train, y_train), (X_test, y_test) = tf.keras.datasets.mnist.load_data()"
   ]
  },
  {
   "cell_type": "code",
   "execution_count": 3,
   "metadata": {},
   "outputs": [],
   "source": [
    "# Split original training dataset into train/validation dataset\n",
    "X_train, X_val, y_train, y_val = train_test_split(X_train, y_train, test_size=0.2, shuffle=True)"
   ]
  },
  {
   "cell_type": "code",
   "execution_count": 4,
   "metadata": {},
   "outputs": [],
   "source": [
    "# Normalize Intensity\n",
    "X_train = X_train / 255.\n",
    "X_val = X_val / 255.\n",
    "X_test = X_test / 255."
   ]
  },
  {
   "cell_type": "code",
   "execution_count": 5,
   "metadata": {},
   "outputs": [],
   "source": [
    "# Convert into 4d tensor shape\n",
    "X_train = X_train.reshape((*X_train.shape, 1))\n",
    "X_val = X_val.reshape((*X_val.shape, 1))\n",
    "X_test = X_test.reshape((*X_test.shape, 1))"
   ]
  },
  {
   "cell_type": "code",
   "execution_count": 6,
   "metadata": {},
   "outputs": [],
   "source": [
    "# Convert labels into one-hot encoding (float)\n",
    "y_train = np.float32(tf.keras.utils.to_categorical(y_train))\n",
    "y_val = np.float32(tf.keras.utils.to_categorical(y_val))\n",
    "y_test = np.float32(tf.keras.utils.to_categorical(y_test))"
   ]
  },
  {
   "cell_type": "markdown",
   "metadata": {},
   "source": [
    "## 2. Create CNN model\n",
    "\n",
    "Network structure:\n",
    "[CONV(32) - BN - RELU] - MAXPOOL - [CONV(64) - BN - RELU] - MAXPOOL - [FC(1024) - BN - RELU] - DROPOUT - FC(10) - SOFTMAX\n",
    "\n",
    "where the kernel size of the CONV layers are (3,3). In this notebook, I mainly use tf.nn class. The example of using tf.layers class is shown in another notebook. \n",
    "Note that tf.nn.conv2 function requires tensor shape of input and weight matrix like following:\n",
    ">Given an input tensor of shape [batch, in_height, in_width, in_channels] and a filter / kernel tensor of shape [filter_height, filter_width, in_channels, out_channels], this op performs the following:"
   ]
  },
  {
   "cell_type": "markdown",
   "metadata": {},
   "source": [
    "### Define layers"
   ]
  },
  {
   "cell_type": "code",
   "execution_count": 7,
   "metadata": {},
   "outputs": [],
   "source": [
    "# CONV. layer w/o activation\n",
    "def conv2d(x, W, b, strides=1, padding='SAME'):\n",
    "    x = tf.nn.conv2d(x, W, strides=[1, strides, strides, 1], padding=padding)\n",
    "    x = tf.nn.bias_add(x, b)\n",
    "    return x\n",
    "\n",
    "# Maxpooling layer\n",
    "def maxpool2d(x, k=2):\n",
    "    return tf.nn.max_pool(x, ksize=[1, k, k, 1], strides=[1, k, k, 1], padding='SAME')"
   ]
  },
  {
   "cell_type": "markdown",
   "metadata": {},
   "source": [
    "### Define network"
   ]
  },
  {
   "cell_type": "code",
   "execution_count": 8,
   "metadata": {},
   "outputs": [],
   "source": [
    "class ConvNet():\n",
    "    def __init__(self, weights, biases):\n",
    "        \"\"\"\n",
    "        # Arguments\n",
    "            weights : dictionary of the tf.Variable\n",
    "            biases : dictionary of the tf.Variable\n",
    "        \"\"\"\n",
    "        self.weights = weights\n",
    "        self.biases = biases\n",
    "    \n",
    "    def __call__(self, x, dropout_rate, is_training):\n",
    "        \"\"\"\n",
    "        # Arguments:\n",
    "            x : (tf.placeholder) - features\n",
    "            dropout_rate : (tf.placeholder) - dropout rate\n",
    "            is_training : (tf.placeholder) - flag whether is training or not\n",
    "        \"\"\"\n",
    "        # CONV - BN - RELU - POOL 28x28x1 to 14x14x32\n",
    "        conv1 = conv2d(X, weights['W_CONV1'], biases['b_CONV1'])\n",
    "        conv1 = tf.layers.batch_normalization(conv1, training=is_training)\n",
    "        conv1 = tf.nn.relu(conv1)\n",
    "        pool1 = maxpool2d(conv1)\n",
    "\n",
    "        # CONV - BN - RELU - POOL 14x14x32 to 7x7x64\n",
    "        conv2 = conv2d(pool1, weights['W_CONV2'], biases['b_CONV2'])\n",
    "        conv2 = tf.layers.batch_normalization(conv2, training=is_training)\n",
    "        conv2 = tf.nn.relu(conv2)\n",
    "        pool2 = maxpool2d(conv2)\n",
    "\n",
    "        # Flattern  7x7x64 to (7x7x64,)\n",
    "        fl1 = tf.layers.flatten(pool2)\n",
    "\n",
    "        # FC (7x7x64,) to 1x1024\n",
    "        dense1 = tf.add(tf.matmul(fl1, weights['W_DENSE1']), biases['b_DENSE1'])\n",
    "        dense1 = tf.layers.batch_normalization(dense1, training=is_training)\n",
    "        dense1 = tf.nn.relu(dense1)\n",
    "\n",
    "        drop1 = tf.nn.dropout(dense1, rate=dropout_rate)\n",
    "\n",
    "        # 1x1024 to 1x10\n",
    "        dense2 = tf.add(tf.matmul(drop1, weights['W_DENSE2']), biases['b_DENSE2'])\n",
    "        return dense2   "
   ]
  },
  {
   "cell_type": "markdown",
   "metadata": {},
   "source": [
    "The shape of the weights and the biases are following:\n",
    "- W_CONV1 : [3, 3, 1, 32]\n",
    "- W_CONV2 : [3, 3, 32, 64]\n",
    "- W_DENCE1 : [7x7x64, 1024]\n",
    "- W_DENCE2 : [1024, n_class]\n",
    "- b_CONV1 : [32,]\n",
    "- b_CONV2 : [64,]\n",
    "- b_DENSE1 : [1024,]\n",
    "- b_DENSE2 : [n_class]\n",
    "\n",
    "The weight initialization rule are following:  \n",
    "- Layer with relu activation: He initialization  \n",
    "- Others: Xavier initialization  "
   ]
  },
  {
   "cell_type": "markdown",
   "metadata": {},
   "source": [
    "### Build graph"
   ]
  },
  {
   "cell_type": "code",
   "execution_count": 9,
   "metadata": {},
   "outputs": [
    {
     "name": "stdout",
     "output_type": "stream",
     "text": [
      "WARNING:tensorflow:From <ipython-input-8-3bea2334be1d>:20: batch_normalization (from tensorflow.python.layers.normalization) is deprecated and will be removed in a future version.\n",
      "Instructions for updating:\n",
      "Use keras.layers.BatchNormalization instead.  In particular, `tf.control_dependencies(tf.GraphKeys.UPDATE_OPS)` should not be used (consult the `tf.keras.layers.batch_normalization` documentation).\n",
      "WARNING:tensorflow:From /usr/local/lib/python3.6/dist-packages/tensorflow_core/python/layers/normalization.py:327: Layer.apply (from tensorflow.python.keras.engine.base_layer) is deprecated and will be removed in a future version.\n",
      "Instructions for updating:\n",
      "Please use `layer.__call__` method instead.\n",
      "WARNING:tensorflow:From <ipython-input-8-3bea2334be1d>:31: flatten (from tensorflow.python.layers.core) is deprecated and will be removed in a future version.\n",
      "Instructions for updating:\n",
      "Use keras.layers.flatten instead.\n",
      "WARNING:tensorflow:From <ipython-input-9-d58e0a2cd108>:40: softmax_cross_entropy_with_logits (from tensorflow.python.ops.nn_ops) is deprecated and will be removed in a future version.\n",
      "Instructions for updating:\n",
      "\n",
      "Future major versions of TensorFlow will allow gradients to flow\n",
      "into the labels input on backprop by default.\n",
      "\n",
      "See `tf.nn.softmax_cross_entropy_with_logits_v2`.\n",
      "\n"
     ]
    }
   ],
   "source": [
    "# Remove the privious graph\n",
    "tf.reset_default_graph()\n",
    "\n",
    "# parameter setting\n",
    "n_class = 10\n",
    "img_width = img_height = 28\n",
    "img_depth = 1\n",
    "\n",
    "# Define initializer\n",
    "he_initializer = tf.initializers.he_normal()\n",
    "xavier_initializer = tf.initializers.glorot_normal()\n",
    "\n",
    "# Define weights & biases\n",
    "weights ={\n",
    "    'W_CONV1' : tf.get_variable(\"W_CONV1\", shape=[3, 3, 1, 32], initializer=he_initializer),\n",
    "    'W_CONV2' : tf.get_variable(\"W_CONV2\", shape=[3, 3, 32, 64], initializer=he_initializer),\n",
    "    \n",
    "    'W_DENSE1' : tf.get_variable(\"W_DENSE1\", shape=[7*7*64, 1024], initializer=he_initializer),\n",
    "    'W_DENSE2' : tf.get_variable(\"W_DENSE2\", shape=[1024, n_class], initializer=he_initializer),\n",
    "}\n",
    "biases = {\n",
    "    'b_CONV1' : tf.Variable(tf.zeros([32,])),\n",
    "    'b_CONV2' : tf.Variable(tf.zeros([64,])),\n",
    "    \n",
    "    'b_DENSE1' : tf.Variable(tf.zeros([1024,])),\n",
    "    'b_DENSE2' :  tf.Variable(tf.zeros([n_class,])),\n",
    "}\n",
    "\n",
    "# Add placeholder\n",
    "X = tf.placeholder(tf.float32, shape=[None, img_height, img_width, img_depth])\n",
    "y = tf.placeholder(tf.float32, shape=[None, n_class])\n",
    "lr = tf.placeholder(tf.float32)\n",
    "dropout_rate = tf.placeholder(tf.float32)\n",
    "is_training = tf.placeholder(tf.bool)\n",
    "\n",
    "# add logits ops\n",
    "logits = ConvNet(weights, biases)(X, dropout_rate, is_training)\n",
    "\n",
    "# add loss & optimizer ops\n",
    "cost = tf.reduce_mean(tf.nn.softmax_cross_entropy_with_logits(labels=y, logits=logits))\n",
    "optimizer = tf.train.AdamOptimizer(learning_rate=lr)\n",
    "\n",
    "update_ops = tf.get_collection(tf.GraphKeys.UPDATE_OPS)\n",
    "with tf.control_dependencies(update_ops):\n",
    "    train_op = optimizer.minimize(cost)\n",
    "\n",
    "# add accuracy ops\n",
    "correct_pred = tf.equal(tf.argmax(logits, axis=1), tf.argmax(y, axis=1))\n",
    "accuracy = tf.reduce_mean(tf.cast(correct_pred, tf.float32))\n",
    "\n",
    "# ops for debug\n",
    "predict_class = tf.argmax(logits, axis=1)"
   ]
  },
  {
   "cell_type": "markdown",
   "metadata": {},
   "source": [
    "### Debug"
   ]
  },
  {
   "cell_type": "code",
   "execution_count": 10,
   "metadata": {},
   "outputs": [],
   "source": [
    "def visualize_batch(X_batch, y_batch, y_pred=None):\n",
    "    assert len(X_batch) == len(y_batch)\n",
    "    \n",
    "    n_col = 10\n",
    "    if len(X_batch) % n_col ==0:\n",
    "        n_row=len(X_batch)//n_col\n",
    "    else:\n",
    "        n_row=len(X_batch)//n_col + 1\n",
    "    \n",
    "    fig = plt.figure(figsize=(20,15))\n",
    "    \n",
    "    for idx in range(len(y_batch)):\n",
    "        if y_pred is not None:\n",
    "            ax = fig.add_subplot(n_row, n_col, idx+1, title=\"gt={}, pred={}\".format(np.argmax(y_batch[idx]), y_pred[idx]))\n",
    "        else:\n",
    "            ax = fig.add_subplot(n_row, n_col, idx+1, title=\"gt={}\".format(np.argmax(y_batch[idx])))\n",
    "        ax.imshow(X_batch[idx].reshape(28,28), cmap='gray')\n",
    "        ax.axes.xaxis.set_visible(False)\n",
    "        ax.axes.yaxis.set_visible(False)\n",
    "    plt.show()"
   ]
  },
  {
   "cell_type": "code",
   "execution_count": 11,
   "metadata": {},
   "outputs": [
    {
     "name": "stdout",
     "output_type": "stream",
     "text": [
      "****** true label ******\n",
      "[[1. 0. 0. 0. 0. 0. 0. 0. 0. 0.]\n",
      " [0. 0. 0. 0. 0. 1. 0. 0. 0. 0.]\n",
      " [0. 0. 0. 0. 1. 0. 0. 0. 0. 0.]\n",
      " [0. 0. 0. 1. 0. 0. 0. 0. 0. 0.]\n",
      " [1. 0. 0. 0. 0. 0. 0. 0. 0. 0.]\n",
      " [0. 0. 0. 0. 0. 0. 0. 0. 1. 0.]\n",
      " [0. 0. 0. 0. 0. 0. 1. 0. 0. 0.]\n",
      " [1. 0. 0. 0. 0. 0. 0. 0. 0. 0.]]\n",
      "****** logits ******\n",
      "[[ 6.3537054   1.0882548  -1.6725295  -3.124223   -0.21068369 -1.6669766\n",
      "  -2.6214564  -0.3079822   0.6790353  -1.3311512 ]\n",
      " [-2.5361495  -0.25544155 -2.0411987  -1.2997248   0.41235787  5.1229157\n",
      "  -1.6024036  -1.1598403  -1.271985   -2.0685039 ]\n",
      " [-2.3150709   1.7152882  -0.851214   -0.75011164  6.554558    0.5716191\n",
      "  -2.527921   -2.470919   -0.42402717 -1.8542842 ]\n",
      " [-0.07172005 -0.3763085  -3.620453    6.502494    1.1451825  -0.50777656\n",
      "  -1.2442759   0.75645    -1.5946612  -1.9941502 ]\n",
      " [ 6.0688653  -2.2060962  -0.79425025 -0.91604173 -1.6899508  -1.4756345\n",
      "   0.12812366  0.79489684 -1.2446381   0.24149014]\n",
      " [-2.3632317   0.7078739   0.12565404 -1.8694534   0.08707764 -1.3888636\n",
      "   2.0270798   2.7239902   4.714      -3.5267859 ]\n",
      " [-2.3566294   0.927483   -2.555674   -1.1362377  -1.5993651   1.8869286\n",
      "   5.7373753  -1.5439183  -0.8627668  -0.69920117]\n",
      " [ 4.4895515  -0.53205746 -2.6630242  -1.7457482  -2.2556248  -0.7931408\n",
      "  -2.5539098   0.376629   -2.6675904   0.37897694]]\n",
      "****** predict class ******\n",
      "[0 5 4 3 0 8 6 0]\n",
      "****** train_loss ******\n",
      "0.026296174\n",
      "****** train_acc ******\n",
      "1.0\n"
     ]
    }
   ],
   "source": [
    "batch_size = 8\n",
    "\n",
    "# initialize parameters\n",
    "init = tf.global_variables_initializer()\n",
    "\n",
    "with tf.Session() as sess:\n",
    "    sess.run(init)\n",
    "    \n",
    "    rand_index = np.random.choice(X_train.shape[0], size=batch_size)\n",
    "    \n",
    "    X_batch = X_train[rand_index]\n",
    "    y_batch = y_train[rand_index]\n",
    "    \n",
    "    learning_rate = 0.001\n",
    "    \n",
    "    sess.run(train_op, feed_dict={\n",
    "        X : X_batch,\n",
    "        y : y_batch,\n",
    "        lr : learning_rate,\n",
    "        dropout_rate : 0.5,\n",
    "        is_training : True\n",
    "    })\n",
    "    \n",
    "    # this calc. is just a debug\n",
    "    logit, train_pradict_class = sess.run([logits, predict_class], feed_dict={\n",
    "        X : X_batch,\n",
    "        y : y_batch,\n",
    "        lr : learning_rate,\n",
    "        dropout_rate : 0.5,\n",
    "        is_training : True\n",
    "    })\n",
    "    \n",
    "    train_loss = sess.run(cost, feed_dict={\n",
    "        X : X_batch,\n",
    "        y : y_batch,\n",
    "        lr : learning_rate,\n",
    "        dropout_rate : 0.4,\n",
    "        is_training : True\n",
    "    })\n",
    "    train_acc = sess.run(accuracy, feed_dict={\n",
    "        X : X_batch,\n",
    "        y : y_batch,\n",
    "        lr : learning_rate,\n",
    "        dropout_rate : 0.,\n",
    "        is_training : True\n",
    "    })\n",
    "    \n",
    "    print('****** true label ******')\n",
    "    print(y_batch)\n",
    "    print('****** logits ******')\n",
    "    print(logit)\n",
    "    print('****** predict class ******')\n",
    "    print(train_pradict_class)\n",
    "    \n",
    "    print('****** train_loss ******')\n",
    "    print(train_loss)\n",
    "    print('****** train_acc ******')\n",
    "    print(train_acc)"
   ]
  },
  {
   "cell_type": "markdown",
   "metadata": {},
   "source": [
    "## 3. Training"
   ]
  },
  {
   "cell_type": "code",
   "execution_count": 12,
   "metadata": {},
   "outputs": [],
   "source": [
    "batch_size = 64"
   ]
  },
  {
   "cell_type": "markdown",
   "metadata": {},
   "source": [
    "### Dataset"
   ]
  },
  {
   "cell_type": "code",
   "execution_count": 13,
   "metadata": {},
   "outputs": [
    {
     "name": "stdout",
     "output_type": "stream",
     "text": [
      "WARNING:tensorflow:From <ipython-input-13-1d3efbcb78fc>:17: DatasetV1.output_types (from tensorflow.python.data.ops.dataset_ops) is deprecated and will be removed in a future version.\n",
      "Instructions for updating:\n",
      "Use `tf.compat.v1.data.get_output_types(dataset)`.\n",
      "WARNING:tensorflow:From <ipython-input-13-1d3efbcb78fc>:17: DatasetV1.output_shapes (from tensorflow.python.data.ops.dataset_ops) is deprecated and will be removed in a future version.\n",
      "Instructions for updating:\n",
      "Use `tf.compat.v1.data.get_output_shapes(dataset)`.\n",
      "WARNING:tensorflow:From /usr/local/lib/python3.6/dist-packages/tensorflow_core/python/data/ops/iterator_ops.py:347: Iterator.output_types (from tensorflow.python.data.ops.iterator_ops) is deprecated and will be removed in a future version.\n",
      "Instructions for updating:\n",
      "Use `tf.compat.v1.data.get_output_types(iterator)`.\n",
      "WARNING:tensorflow:From /usr/local/lib/python3.6/dist-packages/tensorflow_core/python/data/ops/iterator_ops.py:348: Iterator.output_shapes (from tensorflow.python.data.ops.iterator_ops) is deprecated and will be removed in a future version.\n",
      "Instructions for updating:\n",
      "Use `tf.compat.v1.data.get_output_shapes(iterator)`.\n",
      "WARNING:tensorflow:From /usr/local/lib/python3.6/dist-packages/tensorflow_core/python/data/ops/iterator_ops.py:350: Iterator.output_classes (from tensorflow.python.data.ops.iterator_ops) is deprecated and will be removed in a future version.\n",
      "Instructions for updating:\n",
      "Use `tf.compat.v1.data.get_output_classes(iterator)`.\n"
     ]
    }
   ],
   "source": [
    "# Build source dataset for training\n",
    "X_train_dataset = tf.data.Dataset.from_tensor_slices(X_train)\n",
    "y_train_dataset = tf.data.Dataset.from_tensor_slices(y_train)\n",
    "train_dataset = tf.data.Dataset.zip((X_train_dataset, y_train_dataset)).batch(batch_size)\n",
    "\n",
    "# Build source dataset for validation\n",
    "X_valid_dataset = tf.data.Dataset.from_tensor_slices(X_val)\n",
    "y_valid_dataset = tf.data.Dataset.from_tensor_slices(y_val)\n",
    "validation_dataset = tf.data.Dataset.zip((X_valid_dataset, y_valid_dataset)).batch(batch_size)\n",
    "\n",
    "# Build source dataset for test\n",
    "X_test_dataset = tf.data.Dataset.from_tensor_slices(X_test)\n",
    "y_test_dataset = tf.data.Dataset.from_tensor_slices(y_test)\n",
    "test_dataset = tf.data.Dataset.zip((X_test_dataset, y_test_dataset)).batch(batch_size)\n",
    "\n",
    "# Make iterator from dataset structure (re-use)\n",
    "iterator = tf.data.Iterator.from_structure(train_dataset.output_types, train_dataset.output_shapes)\n",
    "\n",
    "# Define ops for batch generation\n",
    "next_data = iterator.get_next()\n",
    "\n",
    "# Define initialize ops\n",
    "train_iter_init = iterator.make_initializer(train_dataset)\n",
    "validation_iter_init = iterator.make_initializer(validation_dataset)\n",
    "test_iter_init = iterator.make_initializer(test_dataset)"
   ]
  },
  {
   "cell_type": "markdown",
   "metadata": {},
   "source": [
    "### Training"
   ]
  },
  {
   "cell_type": "code",
   "execution_count": 14,
   "metadata": {},
   "outputs": [
    {
     "name": "stdout",
     "output_type": "stream",
     "text": [
      "epoch 0, time_per_epoch=36.0 s, loss=0.0673, acc=0.98, val_loss=0.0691, val_acc=0.98\n",
      "val_loss improved -- Trained Model Saved\n",
      "epoch 1, time_per_epoch=34.1 s, loss=0.0210, acc=0.99, val_loss=0.0785, val_acc=0.98\n",
      "val_loss not improved\n",
      "epoch 2, time_per_epoch=34.0 s, loss=0.0094, acc=1.00, val_loss=0.0623, val_acc=0.98\n",
      "val_loss improved -- Trained Model Saved\n",
      "epoch 3, time_per_epoch=34.0 s, loss=0.0064, acc=1.00, val_loss=0.0616, val_acc=0.98\n",
      "val_loss improved -- Trained Model Saved\n",
      "epoch 4, time_per_epoch=34.0 s, loss=0.0044, acc=1.00, val_loss=0.0533, val_acc=0.99\n",
      "val_loss improved -- Trained Model Saved\n",
      "epoch 5, time_per_epoch=34.0 s, loss=0.0044, acc=1.00, val_loss=0.0429, val_acc=0.99\n",
      "val_loss improved -- Trained Model Saved\n",
      "epoch 6, time_per_epoch=33.9 s, loss=0.0034, acc=1.00, val_loss=0.0635, val_acc=0.99\n",
      "val_loss not improved\n",
      "epoch 7, time_per_epoch=33.9 s, loss=0.0025, acc=1.00, val_loss=0.0579, val_acc=0.99\n",
      "val_loss not improved\n",
      "epoch 8, time_per_epoch=33.9 s, loss=0.0027, acc=1.00, val_loss=0.0429, val_acc=0.99\n",
      "WARNING:tensorflow:From /usr/local/lib/python3.6/dist-packages/tensorflow_core/python/training/saver.py:963: remove_checkpoint (from tensorflow.python.training.checkpoint_management) is deprecated and will be removed in a future version.\n",
      "Instructions for updating:\n",
      "Use standard file APIs to delete files with this prefix.\n",
      "val_loss improved -- Trained Model Saved\n",
      "epoch 9, time_per_epoch=33.9 s, loss=0.0013, acc=1.00, val_loss=0.0625, val_acc=0.99\n",
      "val_loss not improved\n",
      "epoch 10, time_per_epoch=33.8 s, loss=0.0013, acc=1.00, val_loss=0.0464, val_acc=0.99\n",
      "val_loss not improved\n",
      "epoch 11, time_per_epoch=33.8 s, loss=0.0018, acc=1.00, val_loss=0.0652, val_acc=0.99\n",
      "val_loss not improved\n",
      "val_loss not improved -- Stop training session\n"
     ]
    }
   ],
   "source": [
    "# Session\n",
    "epochs = 15\n",
    "drop_rate = 0.2\n",
    "learning_rate = 0.001\n",
    "\n",
    "# difine checkpoint file name\n",
    "checkpoint_path = './checkpoints_1'\n",
    "\n",
    "saver = tf.train.Saver()\n",
    "init = tf.global_variables_initializer()\n",
    "\n",
    "with tf.Session() as sess:\n",
    "    sess.run(init)\n",
    "    \n",
    "    not_improved_cnt = 0\n",
    "    val_loss_best = 99999999\n",
    "    \n",
    "    # Training cycle\n",
    "    for epoch in range(epochs):\n",
    "        \n",
    "        start = time.time()\n",
    "        train_loss_list = []\n",
    "        train_acc_list = []\n",
    "        validation_loss_list = []\n",
    "        validation_acc_list = []\n",
    "        \n",
    "        # train\n",
    "        sess.run(train_iter_init)\n",
    "        while True:\n",
    "            try:\n",
    "                X_batch, y_batch = sess.run(next_data)\n",
    "                \n",
    "                feed_dict={\n",
    "                    X : X_batch,\n",
    "                    y : y_batch,\n",
    "                    lr : learning_rate,\n",
    "                    dropout_rate : drop_rate,\n",
    "                    is_training : True\n",
    "                }\n",
    "                \n",
    "                # update trainable weights\n",
    "                sess.run(train_op, feed_dict=feed_dict)\n",
    "                \n",
    "                # calc. train loss & accuracy per batch\n",
    "                train_loss, train_acc = sess.run([cost, accuracy], feed_dict=feed_dict)\n",
    "                \n",
    "                train_loss_list.append(train_loss)\n",
    "                train_acc_list.append(train_acc)\n",
    "            except tf.errors.OutOfRangeError:\n",
    "                break\n",
    "        \n",
    "        # validation\n",
    "        sess.run(validation_iter_init)\n",
    "        while True:\n",
    "            try:\n",
    "                X_batch, y_batch = sess.run(next_data)\n",
    "                # calc. validation loss & acc \n",
    "                val_loss, val_acc = sess.run([cost, accuracy], feed_dict={\n",
    "                    X : X_batch,\n",
    "                    y : y_batch,\n",
    "                    lr : learning_rate,\n",
    "                    dropout_rate : 0.0,\n",
    "                    is_training : False\n",
    "                })\n",
    "                validation_loss_list.append(val_loss)\n",
    "                validation_acc_list.append(val_acc)\n",
    "            except tf.errors.OutOfRangeError:\n",
    "                break\n",
    "        elapsed_time = time.time() - start\n",
    "        \n",
    "        # Average over dataset\n",
    "        train_loss = np.average(train_loss_list)\n",
    "        train_acc = np.average(train_acc_list)\n",
    "        val_loss = np.average(validation_loss_list)\n",
    "        val_acc = np.average(validation_acc_list)\n",
    "        \n",
    "        print('epoch {0}, time_per_epoch={1:.1f} s, loss={2:.4f}, acc={3:.2f}, val_loss={4:.4f}, val_acc={5:.2f}'\n",
    "              .format(epoch, elapsed_time, train_loss, train_acc, val_loss, val_acc))\n",
    "        \n",
    "        if val_loss < val_loss_best:\n",
    "            val_loss_best = val_loss\n",
    "            \n",
    "            # reset count\n",
    "            not_improved_cnt = 0\n",
    "            \n",
    "            saver.save(sess, '{}/model_{}.ckpt'.format(checkpoint_path, epoch))\n",
    "            print('val_loss improved -- Trained Model Saved')\n",
    "        else:\n",
    "            not_improved_cnt += 1\n",
    "            print('val_loss not improved')\n",
    "            \n",
    "            if not_improved_cnt >= 3:\n",
    "                print('val_loss not improved -- Stop training session')\n",
    "                break"
   ]
  },
  {
   "cell_type": "markdown",
   "metadata": {},
   "source": [
    "## 4. Test"
   ]
  },
  {
   "cell_type": "code",
   "execution_count": 15,
   "metadata": {},
   "outputs": [
    {
     "name": "stdout",
     "output_type": "stream",
     "text": [
      "INFO:tensorflow:Restoring parameters from checkpoints/model_8.ckpt\n"
     ]
    },
    {
     "data": {
      "image/png": "[encoded data removed]",
      "text/plain": [
       "<Figure size 1440x1080 with 64 Axes>"
      ]
     },
     "metadata": {
      "needs_background": "light"
     },
     "output_type": "display_data"
    },
    {
     "name": "stdout",
     "output_type": "stream",
     "text": [
      "test_acc=1.000\n"
     ]
    }
   ],
   "source": [
    "with tf.Session() as sess:\n",
    "    saver.restore(sess, tf.train.latest_checkpoint(checkpoint_path))\n",
    "    \n",
    "    test_loss_list = []\n",
    "    test_acc_list = []\n",
    "    \n",
    "    sess.run(test_iter_init)\n",
    "\n",
    "    # evaluate\n",
    "    cnt = 0\n",
    "    while True:\n",
    "        try:\n",
    "            X_batch, y_batch = sess.run(next_data)\n",
    "            \n",
    "            # calc. test loss & acc \n",
    "            pred_labels, test_acc = sess.run([predict_class, accuracy], feed_dict={\n",
    "                X : X_batch,\n",
    "                y : y_batch,\n",
    "                lr : learning_rate,\n",
    "                dropout_rate : 0.0,\n",
    "                is_training : False\n",
    "            })\n",
    "            \n",
    "            if cnt % 500 == 0:\n",
    "                visualize_batch(X_batch, y_batch, pred_labels)\n",
    "            test_acc_list.append(test_acc)\n",
    "            \n",
    "            cnt += 1\n",
    "        except tf.errors.OutOfRangeError:\n",
    "            break\n",
    "            \n",
    "    test_acc = np.average(test_acc)\n",
    "\n",
    "    print('test_acc={0:.3f}'.format(test_acc))"
   ]
  }
 ],
 "metadata": {
  "kernelspec": {
   "display_name": "Python 3",
   "language": "python",
   "name": "python3"
  },
  "language_info": {
   "codemirror_mode": {
    "name": "ipython",
    "version": 3
   },
   "file_extension": ".py",
   "mimetype": "text/x-python",
   "name": "python",
   "nbconvert_exporter": "python",
   "pygments_lexer": "ipython3",
   "version": "3.6.9"
  }
 },
 "nbformat": 4,
 "nbformat_minor": 4
}
