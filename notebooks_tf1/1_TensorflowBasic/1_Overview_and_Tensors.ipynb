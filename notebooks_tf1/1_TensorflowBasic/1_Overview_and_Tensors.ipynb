{
 "cells": [
  {
   "cell_type": "markdown",
   "metadata": {},
   "source": [
    "# Overview and Tensors\n",
    "---\n",
    "In thie notebook, I'll describe \n",
    "- Overview about the tensorflow\n",
    "- Execute operations using tf.Session()\n",
    "- Tensors\n",
    "    - constant\n",
    "    - Variable\n",
    "    - placeholder\n",
    "\n",
    "## Overview about the tensorflow\n",
    "- Tensorflow calculates various kinds of data operations using a computational graph.\n",
    "- The defined computational graph is executed in tf.Session().\n",
    "    - Basically tensorflow treats computations in define-and-run style.\n",
    "    - The return values of the tf.Session.run() are numpy array.\n",
    "    - Recently, tensorflow supports define-by-run style, that is \"Eager Execution\"."
   ]
  },
  {
   "cell_type": "code",
   "execution_count": 1,
   "metadata": {},
   "outputs": [
    {
     "name": "stdout",
     "output_type": "stream",
     "text": [
      "tensorflow version:  1.15.2\n",
      "numpy version:  1.18.2\n"
     ]
    }
   ],
   "source": [
    "# packages\n",
    "import tensorflow as tf\n",
    "import numpy as np\n",
    "\n",
    "print(\"tensorflow version: \", tf.__version__)\n",
    "print(\"numpy version: \", np.__version__)"
   ]
  },
  {
   "cell_type": "markdown",
   "metadata": {},
   "source": [
    "## Execute operations using tf.Session()\n",
    "Pipeline:\n",
    "- Build a computational graph.\n",
    "- Run session."
   ]
  },
  {
   "cell_type": "code",
   "execution_count": 2,
   "metadata": {},
   "outputs": [
    {
     "name": "stdout",
     "output_type": "stream",
     "text": [
      "Tensor(\"Const:0\", shape=(), dtype=float16)\n",
      "13.5\n"
     ]
    }
   ],
   "source": [
    "# clear graph\n",
    "tf.reset_default_graph()\n",
    "\n",
    "# build graph\n",
    "test_const = tf.constant(13.5, tf.float16)\n",
    "\n",
    "print(test_const) # In this line, test_cost is a abstract constant tensor.\n",
    "\n",
    "# run session\n",
    "with tf.Session() as sess:\n",
    "    out = sess.run(test_const) # In this line, test_const makes concrete data.\n",
    "    print(out)"
   ]
  },
  {
   "cell_type": "markdown",
   "metadata": {},
   "source": [
    "## Tensors\n",
    "\n",
    "### [tf.constant](https://www.tensorflow.org/api_docs/python/tf/constant)\n",
    "- A constant tensor is a fixed tensor in a computation graph operation.\n",
    "- When we try to change values of constant tensors, tensorflow raises exception.\n",
    "\n",
    "```python\n",
    "tf.constant(value, dtype=None, shape=None, name='Const', verify_shape=False)\n",
    "```\n",
    "\n",
    "Args:\n",
    "- value: A constant value (or list) of output type dtype.\n",
    "- dtype: The type of the elements of the resulting tensor.\n",
    "- shape: Optional dimensions of resulting tensor.\n",
    "- name: Optional name for the tensor.\n",
    "- verify_shape: Boolean that enables verification of a shape of values.\n",
    "  \n",
    "Returns:  \n",
    "- A Constant Tensor.  \n",
    "  \n",
    "Raises:  \n",
    "- TypeError: if shape is incorrectly specified or unsupported.  \n",
    "\n",
    "__Examples:__  "
   ]
  },
  {
   "cell_type": "code",
   "execution_count": 3,
   "metadata": {},
   "outputs": [
    {
     "name": "stdout",
     "output_type": "stream",
     "text": [
      "const1:  Tensor(\"Const:0\", shape=(), dtype=int32)\n",
      "const2:  Tensor(\"Const_1:0\", shape=(3,), dtype=int32)\n",
      "const3:  Tensor(\"Const_2:0\", shape=(2, 3), dtype=int32)\n",
      "1\n",
      "[1 2 3]\n",
      "[[1 2 3]\n",
      " [4 5 6]]\n"
     ]
    }
   ],
   "source": [
    "# clear graph\n",
    "tf.reset_default_graph()\n",
    "\n",
    "# 0-dimensional scalor tensor (int32)\n",
    "const1 = tf.constant(1)\n",
    "print(\"const1: \", const1)\n",
    "\n",
    "# 1-dimensional vector tensor\n",
    "const2 = tf.constant([1,2,3])\n",
    "print(\"const2: \", const2)\n",
    "\n",
    "# 2-dimensional matrix tensor\n",
    "const3 = tf.constant([[1,2,3],[4,5,6]])\n",
    "print(\"const3: \", const3)\n",
    "\n",
    "# And so on.\n",
    "\n",
    "with tf.Session() as sess:\n",
    "    print(sess.run(const1))\n",
    "    print(sess.run(const2))\n",
    "    print(sess.run(const3))"
   ]
  },
  {
   "cell_type": "markdown",
   "metadata": {},
   "source": [
    "## [tf.Variable](https://www.tensorflow.org/api_docs/python/tf/Variable)\n",
    "\n",
    "- A variable is a changeable tensor.\n",
    "- We can define a variable like following:\n",
    "    - `val = tf.Variable(<initial-value>, name=<optional-name>)`\n",
    "    - `my_variable = tf.get_variable(\"my_variable\", shape=[1, 2, 2])`\n",
    "- In general, variable tensors are treated as optimization targets.\n",
    "- Variables must be initialized in the session.\n",
    "    - If we want to initialize all variables, use `sess.run(tf.global_variables_initiaizer()) `.\n",
    "    - If we want to initialize variables individually, use `sess.run(val_name.initializer)`.\n",
    "    \n",
    "```python\n",
    "tf.Variable(initial_value=None, trainable=True, collections=None, validate_shape=True, caching_device=None, name=None, variable_def=None, dtype=None, expected_shape=None, import_scope=None, constraint=None, use_resource=None, synchronization=tf.VariableSynchronization.AUTO, aggregation=tf.VariableAggregation.NONE)\n",
    "```\n",
    "\n",
    "Args:\n",
    "- initial_value: A Tensor, or Python object convertible to a Tensor, which is the initial value for the Variable. The initial value must have a shape specified unless validate_shape is set to False. Can also be a callable with no argument that returns the initial value when called. In that case, dtype must be specified. (Note that initializer functions from init_ops.py must first be bound to a shape before being used here.)\n",
    "- trainable: If True, the default, also adds the variable to the graph collection GraphKeys.TRAINABLE_VARIABLES. This collection is used as the default list of variables to use by the Optimizer classes.\n",
    "- collections: List of graph collections keys. The new variable is added to these collections. Defaults to [GraphKeys.GLOBAL_VARIABLES].\n",
    "- validate_shape: If False, allows the variable to be initialized with a value of unknown shape. If True, the default, the shape of initial_value must be known.\n",
    "- caching_device: Optional device string describing where the Variable should be cached for reading. Defaults to the Variable's device. If not None, caches on another device. Typical use is to cache on the device where the Ops using the Variable reside, to deduplicate copying through Switch and other conditional statements.\n",
    "- name: Optional name for the variable. Defaults to 'Variable' and gets uniquified automatically.\n",
    "- variable_def: VariableDef protocol buffer. If not None, recreates the Variable object with its contents, referencing the variable's nodes in the graph, which must already exist. The graph is not changed. variable_def and the other arguments are mutually exclusive.\n",
    "- dtype: If set, initial_value will be converted to the given type. If None, either the datatype will be kept (if initial_value is a Tensor), or convert_to_tensor will decide.\n",
    "- expected_shape: A TensorShape. If set, initial_value is expected to have this shape.\n",
    "- import_scope: Optional string. Name scope to add to the Variable. Only used when initializing from protocol buffer.\n",
    "- constraint: An optional projection function to be applied to the variable after being updated by an Optimizer (e.g. used to implement norm constraints or value constraints for layer weights). The function must take as input the unprojected Tensor representing the value of the variable and return the Tensor for the projected value (which must have the same shape). Constraints are not safe to use when doing asynchronous distributed training.\n",
    "- use_resource: whether to use resource variables.\n",
    "- synchronization: unused\n",
    "- aggregation: unused\n",
    "\n",
    "Raises:\n",
    "- ValueError: If both variable_def and initial_value are specified.\n",
    "- ValueError: If the initial value is not specified, or does not have a shape and validate_shape is True.\n",
    "- RuntimeError: If eager execution is enabled.\n",
    "\n",
    "__Examples:__"
   ]
  },
  {
   "cell_type": "code",
   "execution_count": 4,
   "metadata": {},
   "outputs": [
    {
     "name": "stdout",
     "output_type": "stream",
     "text": [
      "<tf.Variable 'Variable:0' shape=(2,) dtype=int32_ref>\n",
      "<tf.Variable 'val2:0' shape=(2,) dtype=int32_ref>\n",
      "<tf.Variable 'val3:0' shape=(2, 2) dtype=float32_ref>\n",
      "------------Session1------------\n",
      "[1 2]\n",
      "[3 4]\n",
      "[[-0.08191002 -0.1338891 ]\n",
      " [ 0.5173946   0.28501067]]\n",
      "------------Session2------------\n",
      "[1 2]\n",
      "[3 4]\n",
      "[[-0.19725624 -0.06469614]\n",
      " [-2.156629   -0.41741645]]\n"
     ]
    }
   ],
   "source": [
    "# clear graph\n",
    "tf.reset_default_graph()\n",
    "\n",
    "# define variables\n",
    "val1 = tf.Variable(tf.constant([1,2]))\n",
    "val2 = tf.Variable(tf.constant([3,4]), name=\"val2\")\n",
    "val3 = tf.get_variable(\"val3\", [2, 2], initializer=tf.initializers.he_normal())\n",
    "print(val1)\n",
    "print(val2)\n",
    "print(val3)\n",
    "\n",
    "print(\"------------Session1------------\")\n",
    "with tf.Session() as sess:\n",
    "    sess.run(tf.global_variables_initializer()) # initalize all variable\n",
    "    print(sess.run(val1))\n",
    "    print(sess.run(val2))\n",
    "    print(sess.run(val3))\n",
    "\n",
    "print(\"------------Session2------------\")\n",
    "with tf.Session() as sess:\n",
    "    sess.run(val1.initializer) # initalize individually\n",
    "    sess.run(val2.initializer)\n",
    "    sess.run(val3.initializer)\n",
    "    print(sess.run(val1))\n",
    "    print(sess.run(val2))\n",
    "    print(sess.run(val3))"
   ]
  },
  {
   "cell_type": "markdown",
   "metadata": {},
   "source": [
    "## [tf.placeholder](https://www.tensorflow.org/api_docs/python/tf/placeholder)\n",
    "- A placeholder is something like empty box for a tensor that will be fed.\n",
    "- We define the dtype and shape of the placeholder when we build a graph, then we fed tensor using `feed_dit` in a session.\n",
    "\n",
    "``` python\n",
    "tf.placeholder(dtype, shape=None, name=None)\n",
    "```\n",
    "Args:\n",
    "- dtype: The type of elements in the tensor to be fed.\n",
    "- shape: The shape of the tensor to be fed (optional). If the shape is not specified, you can feed a tensor of any shape.\n",
    "- name: A name for the operation (optional).\n",
    "\n",
    "Returns:\n",
    "- A Tensor that may be used as a handle for feeding a value, but not evaluated directly.\n",
    "\n",
    "Raises:\n",
    "- RuntimeError: if eager execution is enabled  \n",
    "__Note that we can't use placeholder in egaer execution__  \n",
    "\n",
    "__Examples:__"
   ]
  },
  {
   "cell_type": "code",
   "execution_count": 5,
   "metadata": {},
   "outputs": [
    {
     "name": "stdout",
     "output_type": "stream",
     "text": [
      "place1:  Tensor(\"Placeholder:0\", shape=(2, 2), dtype=int32)\n",
      "input_data:  [[1 2]\n",
      " [3 4]]\n",
      "[[1 2]\n",
      " [3 4]]\n"
     ]
    }
   ],
   "source": [
    "# clear graph\n",
    "tf.reset_default_graph()\n",
    "\n",
    "place1 = tf.placeholder(tf.int32, shape=(2,2))\n",
    "input_data = np.array([[1,2],[3,4]])\n",
    "\n",
    "print(\"place1: \", place1)\n",
    "print(\"input_data: \", input_data)\n",
    "\n",
    "with tf.Session() as sess:\n",
    "    out = sess.run(place1, feed_dict={place1 : input_data})\n",
    "    print(out)"
   ]
  }
 ],
 "metadata": {
  "kernelspec": {
   "display_name": "Python 3",
   "language": "python",
   "name": "python3"
  },
  "language_info": {
   "codemirror_mode": {
    "name": "ipython",
    "version": 3
   },
   "file_extension": ".py",
   "mimetype": "text/x-python",
   "name": "python",
   "nbconvert_exporter": "python",
   "pygments_lexer": "ipython3",
   "version": "3.6.9"
  }
 },
 "nbformat": 4,
 "nbformat_minor": 2
}
