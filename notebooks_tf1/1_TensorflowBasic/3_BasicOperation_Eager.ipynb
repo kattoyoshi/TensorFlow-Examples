{
 "cells": [
  {
   "cell_type": "markdown",
   "metadata": {},
   "source": [
    "# Basic Operations (Eager Execution)\n",
    "---\n",
    "In thie notebook, I'll describe basic Tensor operations using \"Eager Execution\".\n",
    "- Vector / Matrix\n",
    "- Matrix Operation\n",
    "\n",
    "__packages:__"
   ]
  },
  {
   "cell_type": "code",
   "execution_count": 1,
   "metadata": {},
   "outputs": [
    {
     "name": "stdout",
     "output_type": "stream",
     "text": [
      "tensorflow version:  1.15.2\n",
      "numpy version:  1.18.2\n",
      "matplotlib version:  3.2.0\n"
     ]
    }
   ],
   "source": [
    "import tensorflow as tf\n",
    "import numpy as np\n",
    "import matplotlib\n",
    "import matplotlib.pyplot as plt\n",
    "%matplotlib inline\n",
    "\n",
    "print(\"tensorflow version: \", tf.__version__)\n",
    "print(\"numpy version: \", np.__version__)\n",
    "print(\"matplotlib version: \", matplotlib.__version__)\n",
    "\n",
    "tf.enable_eager_execution()"
   ]
  },
  {
   "cell_type": "markdown",
   "metadata": {},
   "source": [
    "We can use define-by-run mode just declaring `tf.enable_eager_execution()`.  \n",
    "Note that we can't mix `tf.Session()` and `tf.enable_eager_execution()` in the same process.  \n",
    "So, we shoud declare `tf.enable_eager_execution()` at first of the program."
   ]
  },
  {
   "cell_type": "markdown",
   "metadata": {},
   "source": [
    "## Vector / Matrix\n",
    "We can use numpy like functions to create vectors or tensors.\n",
    "\n",
    "### Numpy like functions\n",
    "```python\n",
    "tf.zeros(shape, dtype=tf.float32, name=None)\n",
    "```\n",
    "```python\n",
    "tf.ones(shape, dtype=tf.float32, name=None)\n",
    "```\n",
    "```python\n",
    "tf.zeros_like(tensor, dtype=None, name=None, optimize=True)\n",
    "```\n",
    "```python\n",
    "tf.ones_like(tensor, dtype=None, name=None, optimize=True)\n",
    "```\n",
    "```python\n",
    "tf.linspace(start, stop, num, name=None)\n",
    "```\n",
    "```python\n",
    "tf.range(start, limit=None, delta=1, dtype=None, name='range')\n",
    "```"
   ]
  },
  {
   "cell_type": "code",
   "execution_count": 2,
   "metadata": {},
   "outputs": [
    {
     "name": "stdout",
     "output_type": "stream",
     "text": [
      "--- data1 ---\n",
      "tf.Tensor(\n",
      "[[0. 0. 0.]\n",
      " [0. 0. 0.]], shape=(2, 3), dtype=float32)\n",
      "--- data2 ---\n",
      "tf.Tensor(\n",
      "[[1. 1. 1.]\n",
      " [1. 1. 1.]], shape=(2, 3), dtype=float32)\n",
      "--- data3 ---\n",
      "tf.Tensor(\n",
      "[[0. 0. 0.]\n",
      " [0. 0. 0.]], shape=(2, 3), dtype=float32)\n",
      "--- data4 ---\n",
      "tf.Tensor(\n",
      "[[1. 1. 1.]\n",
      " [1. 1. 1.]], shape=(2, 3), dtype=float32)\n"
     ]
    }
   ],
   "source": [
    "data1 = tf.zeros([2,3])\n",
    "data2 = tf.ones([2,3])\n",
    "data3 = tf.zeros_like(data2)\n",
    "data4 = tf.ones_like(data1)\n",
    "\n",
    "print(\"--- data1 ---\")\n",
    "print(data1)\n",
    "print(\"--- data2 ---\")\n",
    "print(data2)\n",
    "print(\"--- data3 ---\")\n",
    "print(data3)\n",
    "print(\"--- data4 ---\")\n",
    "print(data4)"
   ]
  },
  {
   "cell_type": "markdown",
   "metadata": {},
   "source": [
    "### [tf.random](https://www.tensorflow.org/api_docs/python/tf/random) examples \n",
    "```python\n",
    "tf.random.uniform(shape, minval=0, maxval=None, dtype=tf.float32, seed=None, name=None)\n",
    "tf.random_uniform(shape, minval=0, maxval=None, dtype=tf.float32, seed=None, name=None)\n",
    "```\n",
    "```python\n",
    "tf.random.normal(shape, mean=0.0, stddev=1.0, dtype=tf.float32, seed=None, name=None)\n",
    "tf.random_normal(shape, mean=0.0, stddev=1.0, dtype=tf.float32, seed=None, name=None)\n",
    "```\n",
    "```python\n",
    "tf.random.truncated_normal(shape, mean=0.0, stddev=1.0, dtype=tf.float32, seed=None, name=None)\n",
    "tf.truncated_normal(shape, mean=0.0, stddev=1.0, dtype=tf.float32, seed=None, name=None)\n",
    "```"
   ]
  },
  {
   "cell_type": "code",
   "execution_count": 5,
   "metadata": {},
   "outputs": [
    {
     "data": {
      "image/png": "[encoded data removed]",
      "text/plain": [
       "<Figure size 432x288 with 1 Axes>"
      ]
     },
     "metadata": {
      "needs_background": "light"
     },
     "output_type": "display_data"
    },
    {
     "data": {
      "image/png": "[encoded data removed]",
      "text/plain": [
       "<Figure size 432x288 with 1 Axes>"
      ]
     },
     "metadata": {
      "needs_background": "light"
     },
     "output_type": "display_data"
    },
    {
     "data": {
      "image/png": "[encoded data removed]",
      "text/plain": [
       "<Figure size 432x288 with 1 Axes>"
      ]
     },
     "metadata": {
      "needs_background": "light"
     },
     "output_type": "display_data"
    }
   ],
   "source": [
    "uniform = tf.random_uniform((1000, ), minval=-3, maxval=3)\n",
    "normal = tf.random_normal((1000, ))\n",
    "turncated_normal = tf.truncated_normal((1000, ))\n",
    "\n",
    "def plot(title, values, hist_range=(-4, 4), bins=500):\n",
    "    plt.title(title)\n",
    "    plt.hist(values, range=hist_range, bins=bins)\n",
    "    plt.show()\n",
    "\n",
    "# We can get tensors as numpy array.\n",
    "plot(\"random_uniform\", uniform.numpy())\n",
    "plot(\"random_normal\", normal.numpy())\n",
    "plot(\"turncated_normal\", turncated_normal.numpy())"
   ]
  },
  {
   "cell_type": "markdown",
   "metadata": {},
   "source": [
    "```python\n",
    "tf.random.shuffle(value, seed=None, name=None)\n",
    "tf.random_shuffle(value, seed=None, name=None)\n",
    "```\n",
    "```python\n",
    "tf.random.crop(value, size, seed=None, name=None)\n",
    "tf.random_crop(value, size, seed=None, name=None)\n",
    "```"
   ]
  },
  {
   "cell_type": "code",
   "execution_count": 6,
   "metadata": {},
   "outputs": [
    {
     "name": "stdout",
     "output_type": "stream",
     "text": [
      "original:  tf.Tensor([1 2 3 4 5], shape=(5,), dtype=int32)\n",
      "shuffle:  tf.Tensor([5 1 2 3 4], shape=(5,), dtype=int32)\n",
      "crop:  tf.Tensor([3 4 5], shape=(3,), dtype=int32)\n"
     ]
    }
   ],
   "source": [
    "val = tf.constant([1,2,3,4,5], dtype=tf.int32)\n",
    "shuffle = tf.random_shuffle(val)\n",
    "crop = tf.random_crop(val, (3,))\n",
    "\n",
    "with tf.Session() as sess:\n",
    "    print(\"original: \", val)\n",
    "    print(\"shuffle: \", shuffle)\n",
    "    print(\"crop: \", crop)"
   ]
  },
  {
   "cell_type": "markdown",
   "metadata": {},
   "source": [
    "### Dimension operations\n",
    "```python\n",
    "# Removes dimensions of size 1 from the shape of a tensor. \n",
    "tf.squeeze(input, axis=None, name=None, squeeze_dims=None)\n",
    "```\n",
    "```python\n",
    "# Inserts a dimension of 1 into a tensor's shape. (deprecated arguments)\n",
    "tf.expand_dims(input, axis=None, name=None, dim=None)\n",
    "```"
   ]
  },
  {
   "cell_type": "code",
   "execution_count": 7,
   "metadata": {},
   "outputs": [
    {
     "name": "stdout",
     "output_type": "stream",
     "text": [
      "np_array1 shape:  (2, 4)\n",
      "np_array2 shape:  (1, 2, 4)\n",
      "np_array1:\n",
      " [[1 2 3 4]\n",
      " [5 6 7 8]]\n",
      "np_array2:\n",
      " [[[1 2 3 4]\n",
      "  [5 6 7 8]]]\n",
      "squeeze(val2)\n",
      " tf.Tensor(\n",
      "[[1 2 3 4]\n",
      " [5 6 7 8]], shape=(2, 4), dtype=int64)\n",
      "expand_dims(val1)\n",
      " tf.Tensor(\n",
      "[[[[1 2 3 4]\n",
      "   [5 6 7 8]]]], shape=(1, 1, 2, 4), dtype=int64)\n"
     ]
    }
   ],
   "source": [
    "np_array1 = np.array([[1,2,3,4],[5,6,7,8]])\n",
    "np_array2 = np.array([[[1,2,3,4],[5,6,7,8]]])\n",
    "\n",
    "print(\"np_array1 shape: \", np_array1.shape)\n",
    "print(\"np_array2 shape: \", np_array2.shape)\n",
    "\n",
    "# We can feed numpy array into tensor ops\n",
    "squeeze = tf.squeeze(np_array2)\n",
    "expand = tf.expand_dims(np_array2, axis=0)\n",
    "\n",
    "print(\"np_array1:\\n\", np_array1)\n",
    "print(\"np_array2:\\n\", np_array2)\n",
    "print(\"squeeze(val2)\\n\", squeeze)\n",
    "print(\"expand_dims(val1)\\n\", expand)"
   ]
  },
  {
   "cell_type": "markdown",
   "metadata": {},
   "source": [
    "## Matrix Operation"
   ]
  },
  {
   "cell_type": "code",
   "execution_count": 8,
   "metadata": {},
   "outputs": [],
   "source": [
    "A_mat_tsr = tf.constant([[1,2,3],[4,5,6]])\n",
    "B_mat_tsr = tf.constant([[7,8,9],[10,11,12]])\n",
    "C_mat_tsr = tf.constant([[1,2],[3,4],[5,6]])"
   ]
  },
  {
   "cell_type": "markdown",
   "metadata": {},
   "source": [
    "### Add -- element wise operation"
   ]
  },
  {
   "cell_type": "code",
   "execution_count": 9,
   "metadata": {},
   "outputs": [
    {
     "name": "stdout",
     "output_type": "stream",
     "text": [
      "tf.Tensor(\n",
      "[[ 8 10 12]\n",
      " [14 16 18]], shape=(2, 3), dtype=int32)\n",
      "tf.Tensor(\n",
      "[[ 8 10 12]\n",
      " [14 16 18]], shape=(2, 3), dtype=int32)\n"
     ]
    }
   ],
   "source": [
    "print(tf.add(A_mat_tsr, B_mat_tsr))\n",
    "print(A_mat_tsr + B_mat_tsr)"
   ]
  },
  {
   "cell_type": "markdown",
   "metadata": {},
   "source": [
    "### Subtract -- element wise operation"
   ]
  },
  {
   "cell_type": "code",
   "execution_count": 10,
   "metadata": {},
   "outputs": [
    {
     "name": "stdout",
     "output_type": "stream",
     "text": [
      "tf.Tensor(\n",
      "[[-6 -6 -6]\n",
      " [-6 -6 -6]], shape=(2, 3), dtype=int32)\n",
      "tf.Tensor(\n",
      "[[-6 -6 -6]\n",
      " [-6 -6 -6]], shape=(2, 3), dtype=int32)\n"
     ]
    }
   ],
   "source": [
    "print(tf.subtract(A_mat_tsr, B_mat_tsr))\n",
    "print(A_mat_tsr - B_mat_tsr)"
   ]
  },
  {
   "cell_type": "markdown",
   "metadata": {},
   "source": [
    "### Multiply -- element wise operation"
   ]
  },
  {
   "cell_type": "code",
   "execution_count": 11,
   "metadata": {},
   "outputs": [
    {
     "name": "stdout",
     "output_type": "stream",
     "text": [
      "tf.Tensor(\n",
      "[[ 7 16 27]\n",
      " [40 55 72]], shape=(2, 3), dtype=int32)\n",
      "tf.Tensor(\n",
      "[[ 7 16 27]\n",
      " [40 55 72]], shape=(2, 3), dtype=int32)\n"
     ]
    }
   ],
   "source": [
    "print(tf.multiply(A_mat_tsr, B_mat_tsr))\n",
    "print(A_mat_tsr * B_mat_tsr)"
   ]
  },
  {
   "cell_type": "markdown",
   "metadata": {},
   "source": [
    "### Divide -- element wise operation"
   ]
  },
  {
   "cell_type": "code",
   "execution_count": 12,
   "metadata": {},
   "outputs": [
    {
     "name": "stdout",
     "output_type": "stream",
     "text": [
      "tf.Tensor(\n",
      "[[0.14285714 0.25       0.33333333]\n",
      " [0.4        0.45454545 0.5       ]], shape=(2, 3), dtype=float64)\n",
      "tf.Tensor(\n",
      "[[0.14285714 0.25       0.33333333]\n",
      " [0.4        0.45454545 0.5       ]], shape=(2, 3), dtype=float64)\n"
     ]
    }
   ],
   "source": [
    "print(tf.divide(A_mat_tsr, B_mat_tsr))\n",
    "print(A_mat_tsr / B_mat_tsr)"
   ]
  },
  {
   "cell_type": "markdown",
   "metadata": {},
   "source": [
    "### Matrix multiplication"
   ]
  },
  {
   "cell_type": "code",
   "execution_count": 13,
   "metadata": {},
   "outputs": [
    {
     "name": "stdout",
     "output_type": "stream",
     "text": [
      "tf.Tensor(\n",
      "[[22 28]\n",
      " [49 64]], shape=(2, 2), dtype=int32)\n"
     ]
    }
   ],
   "source": [
    "matrix_dot = tf.matmul(A_mat_tsr,C_mat_tsr)\n",
    "print(tf.matmul(A_mat_tsr,C_mat_tsr))"
   ]
  }
 ],
 "metadata": {
  "kernelspec": {
   "display_name": "Python 3",
   "language": "python",
   "name": "python3"
  },
  "language_info": {
   "codemirror_mode": {
    "name": "ipython",
    "version": 3
   },
   "file_extension": ".py",
   "mimetype": "text/x-python",
   "name": "python",
   "nbconvert_exporter": "python",
   "pygments_lexer": "ipython3",
   "version": "3.6.9"
  }
 },
 "nbformat": 4,
 "nbformat_minor": 2
}
